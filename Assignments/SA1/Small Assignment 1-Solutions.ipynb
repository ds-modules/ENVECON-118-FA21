{
 "cells": [
  {
   "cell_type": "markdown",
   "metadata": {},
   "source": [
    "# Small Assignment 1\n",
    "(due September 10th 2020, 11:59 PM PDT)"
   ]
  },
  {
   "cell_type": "markdown",
   "metadata": {},
   "source": [
    "This assignment will help you get familiar with using **R** to manipulate data. We have included comments in the code cells to help outline the required steps. We will not provide such comments in the future, but we encourage you to develop a habit of annotating your code in a similar way, so that another reader (perhaps yourself in the future!) can easily follow what you are doing.\n",
    "\n",
    "If you have questions about using particular functions in **R**, remember that entering `?function` or `help(function)` will pull up a window outlining the syntax for the function and how the arguments should be entered.\n",
    "\n",
    "Please submit this assignment via Gradescope. To do so you will need to generate a single pdf\n",
    "file of your answers. For small assignments, the pdf can be composed of photo images and/or\n",
    "screenshots if you are not using Jupyter. Please see the [submission instructions](https://gradescope-static-assets.s3-us-west-2.amazonaws.com/help/submitting_hw_guide.pdf) for help uploading to Gradescope. "
   ]
  },
  {
   "cell_type": "markdown",
   "metadata": {},
   "source": [
    "## Part 1. \n",
    "We are going to explore the nuts and bolts of regressions by doing one by hand. *Please do not use canned functions to calculate sample variances and covariances and to estimate regression coefficients.*\n",
    "\n",
    "Start by reading in the `energy.csv` file."
   ]
  },
  {
   "cell_type": "code",
   "execution_count": 1,
   "metadata": {},
   "outputs": [],
   "source": [
    "# Read in the data and save it as an object\n",
    "df <-read.csv('energy.csv', header=T)"
   ]
  },
  {
   "cell_type": "markdown",
   "metadata": {},
   "source": [
    "View the structure of the dataset using the `head` function."
   ]
  },
  {
   "cell_type": "code",
   "execution_count": 2,
   "metadata": {},
   "outputs": [
    {
     "data": {
      "text/html": [
       "<table class=\"dataframe\">\n",
       "<caption>A data.frame: 6 × 5</caption>\n",
       "<thead>\n",
       "\t<tr><th></th><th scope=col>country_name</th><th scope=col>country_code</th><th scope=col>energy_use</th><th scope=col>gdp</th><th scope=col>pop</th></tr>\n",
       "\t<tr><th></th><th scope=col>&lt;chr&gt;</th><th scope=col>&lt;chr&gt;</th><th scope=col>&lt;dbl&gt;</th><th scope=col>&lt;dbl&gt;</th><th scope=col>&lt;int&gt;</th></tr>\n",
       "</thead>\n",
       "<tbody>\n",
       "\t<tr><th scope=row>1</th><td>Algeria          </td><td>DZA</td><td> 37444.586</td><td>1.710000e+11</td><td> 35725377</td></tr>\n",
       "\t<tr><th scope=row>2</th><td>Armenia          </td><td>ARM</td><td>  2996.571</td><td>1.166202e+10</td><td>  2977488</td></tr>\n",
       "\t<tr><th scope=row>3</th><td>Bangladesh       </td><td>BGD</td><td> 27794.069</td><td>7.955435e+10</td><td>147969967</td></tr>\n",
       "\t<tr><th scope=row>4</th><td>Botswana         </td><td>BWA</td><td>  2151.618</td><td>1.111302e+10</td><td>  1933719</td></tr>\n",
       "\t<tr><th scope=row>5</th><td>Brazil           </td><td>BRA</td><td>248343.704</td><td>1.650000e+12</td><td>191765567</td></tr>\n",
       "\t<tr><th scope=row>6</th><td>Brunei Darussalam</td><td>BRN</td><td>  3629.024</td><td>1.439310e+10</td><td>   388017</td></tr>\n",
       "</tbody>\n",
       "</table>\n"
      ],
      "text/latex": [
       "A data.frame: 6 × 5\n",
       "\\begin{tabular}{r|lllll}\n",
       "  & country\\_name & country\\_code & energy\\_use & gdp & pop\\\\\n",
       "  & <chr> & <chr> & <dbl> & <dbl> & <int>\\\\\n",
       "\\hline\n",
       "\t1 & Algeria           & DZA &  37444.586 & 1.710000e+11 &  35725377\\\\\n",
       "\t2 & Armenia           & ARM &   2996.571 & 1.166202e+10 &   2977488\\\\\n",
       "\t3 & Bangladesh        & BGD &  27794.069 & 7.955435e+10 & 147969967\\\\\n",
       "\t4 & Botswana          & BWA &   2151.618 & 1.111302e+10 &   1933719\\\\\n",
       "\t5 & Brazil            & BRA & 248343.704 & 1.650000e+12 & 191765567\\\\\n",
       "\t6 & Brunei Darussalam & BRN &   3629.024 & 1.439310e+10 &    388017\\\\\n",
       "\\end{tabular}\n"
      ],
      "text/markdown": [
       "\n",
       "A data.frame: 6 × 5\n",
       "\n",
       "| <!--/--> | country_name &lt;chr&gt; | country_code &lt;chr&gt; | energy_use &lt;dbl&gt; | gdp &lt;dbl&gt; | pop &lt;int&gt; |\n",
       "|---|---|---|---|---|---|\n",
       "| 1 | Algeria           | DZA |  37444.586 | 1.710000e+11 |  35725377 |\n",
       "| 2 | Armenia           | ARM |   2996.571 | 1.166202e+10 |   2977488 |\n",
       "| 3 | Bangladesh        | BGD |  27794.069 | 7.955435e+10 | 147969967 |\n",
       "| 4 | Botswana          | BWA |   2151.618 | 1.111302e+10 |   1933719 |\n",
       "| 5 | Brazil            | BRA | 248343.704 | 1.650000e+12 | 191765567 |\n",
       "| 6 | Brunei Darussalam | BRN |   3629.024 | 1.439310e+10 |    388017 |\n",
       "\n"
      ],
      "text/plain": [
       "  country_name      country_code energy_use gdp          pop      \n",
       "1 Algeria           DZA           37444.586 1.710000e+11  35725377\n",
       "2 Armenia           ARM            2996.571 1.166202e+10   2977488\n",
       "3 Bangladesh        BGD           27794.069 7.955435e+10 147969967\n",
       "4 Botswana          BWA            2151.618 1.111302e+10   1933719\n",
       "5 Brazil            BRA          248343.704 1.650000e+12 191765567\n",
       "6 Brunei Darussalam BRN            3629.024 1.439310e+10    388017"
      ]
     },
     "metadata": {},
     "output_type": "display_data"
    }
   ],
   "source": [
    "head(df)"
   ]
  },
  {
   "cell_type": "markdown",
   "metadata": {},
   "source": [
    "**(a)** Create two new variables, GDP (\\$) per capita and energy use (KT oil equivalent) per capita.\n",
    "\n",
    "*Hint: Use the* `mutate` *function (you will have to load* `tidyverse` *first).* \n"
   ]
  },
  {
   "cell_type": "code",
   "execution_count": 3,
   "metadata": {},
   "outputs": [
    {
     "name": "stderr",
     "output_type": "stream",
     "text": [
      "── \u001b[1mAttaching packages\u001b[22m ─────────────────────────────────────── tidyverse 1.3.0 ──\n",
      "\n",
      "\u001b[32m✔\u001b[39m \u001b[34mggplot2\u001b[39m 3.3.5     \u001b[32m✔\u001b[39m \u001b[34mpurrr  \u001b[39m 0.3.4\n",
      "\u001b[32m✔\u001b[39m \u001b[34mtibble \u001b[39m 3.1.4     \u001b[32m✔\u001b[39m \u001b[34mdplyr  \u001b[39m 1.0.7\n",
      "\u001b[32m✔\u001b[39m \u001b[34mtidyr  \u001b[39m 1.1.3     \u001b[32m✔\u001b[39m \u001b[34mstringr\u001b[39m 1.4.0\n",
      "\u001b[32m✔\u001b[39m \u001b[34mreadr  \u001b[39m 2.0.1     \u001b[32m✔\u001b[39m \u001b[34mforcats\u001b[39m 0.5.1\n",
      "\n",
      "── \u001b[1mConflicts\u001b[22m ────────────────────────────────────────── tidyverse_conflicts() ──\n",
      "\u001b[31m✖\u001b[39m \u001b[34mdplyr\u001b[39m::\u001b[32mfilter()\u001b[39m masks \u001b[34mstats\u001b[39m::filter()\n",
      "\u001b[31m✖\u001b[39m \u001b[34mdplyr\u001b[39m::\u001b[32mlag()\u001b[39m    masks \u001b[34mstats\u001b[39m::lag()\n",
      "\n"
     ]
    }
   ],
   "source": [
    "# View first few lines of data\n",
    "library(tidyverse)\n",
    "#Generate per capita variables\n",
    "df <- mutate(df, gdp_pc= gdp/pop, energy_pc=energy_use/pop)\n"
   ]
  },
  {
   "cell_type": "markdown",
   "metadata": {},
   "source": [
    "**(b)** Generate a scatter plot comparing energy use per capita (on the y-axis) to GDP per capita (on the x-axis) for the countries in your sample. *Hint: Use the* `plot` *function.*"
   ]
  },
  {
   "cell_type": "code",
   "execution_count": 4,
   "metadata": {},
   "outputs": [
    {
     "data": {
      "image/png": "[encoded data removed]",
      "text/plain": [
       "plot without title"
      ]
     },
     "metadata": {
      "image/png": {
       "height": 420,
       "width": 420
      }
     },
     "output_type": "display_data"
    }
   ],
   "source": [
    "# Simple scatterplot\n",
    "plot(df$gdp_pc, df$energy_pc, xlab='GDP per capita', ylab='Energy use per capita')"
   ]
  },
  {
   "cell_type": "markdown",
   "metadata": {},
   "source": [
    "**(c)** Calculate the sample mean of GDP per capita, sample mean of energy per capita,\n",
    "covariance of GDP per capita and energy use per capita, and variance of GDP per\n",
    "capita.\n",
    "\n",
    "*Hint: The functions `sum()` and `nrow()` will be useful. Create a vector by writing `c(object1, object2, object3,...)`."
   ]
  },
  {
   "cell_type": "code",
   "execution_count": 5,
   "metadata": {},
   "outputs": [
    {
     "data": {
      "text/html": [
       "<style>\n",
       ".list-inline {list-style: none; margin:0; padding: 0}\n",
       ".list-inline>li {display: inline-block}\n",
       ".list-inline>li:not(:last-child)::after {content: \"\\00b7\"; padding: 0 .5ex}\n",
       "</style>\n",
       "<ol class=list-inline><li>15419.2698158678</li><li>0.0032316582767966</li><li>62.272034896757</li><li>326578025.706693</li></ol>\n"
      ],
      "text/latex": [
       "\\begin{enumerate*}\n",
       "\\item 15419.2698158678\n",
       "\\item 0.0032316582767966\n",
       "\\item 62.272034896757\n",
       "\\item 326578025.706693\n",
       "\\end{enumerate*}\n"
      ],
      "text/markdown": [
       "1. 15419.2698158678\n",
       "2. 0.0032316582767966\n",
       "3. 62.272034896757\n",
       "4. 326578025.706693\n",
       "\n",
       "\n"
      ],
      "text/plain": [
       "[1] 1.541927e+04 3.231658e-03 6.227203e+01 3.265780e+08"
      ]
     },
     "metadata": {},
     "output_type": "display_data"
    }
   ],
   "source": [
    "# Save means as new objects\n",
    "xbar <-mean(df$gdp_pc)\n",
    "ybar <-mean(df$energy_pc)\n",
    "\n",
    "# Create new columns with residuals (x_i-\\bar{x}) and (y_i-\\bar{y}) as part of your data \n",
    "df <- mutate(df, xres= gdp_pc-xbar, yres= energy_pc-ybar) \n",
    "\n",
    "# Create new columns with the elements you need to calculate the covariance and variance, based on the residuals\n",
    "df <- mutate(df, xy= xres*yres, xx=xres^2)\n",
    "\n",
    "# Save the covariance and variance as new objects by summing over the relevant variables and dividing by n-1. \n",
    "covxy<- sum(df$xy)/(nrow(df)-1)\n",
    "varx<- sum(df$xx)/(nrow(df)-1)\n",
    "\n",
    "# Display results, using a vector with four elements\n",
    "c(xbar, ybar, covxy, varx) #note the use of c to create a vector!"
   ]
  },
  {
   "cell_type": "markdown",
   "metadata": {},
   "source": [
    "**(d)** Suppose $y_i$ is energy use per capita in country $i$ and $x_i$ is GDP per capita in country $i$. Suppose your statistical model is $$y_i=\\beta_0+\\beta_1x_i+u_i.$$ Estimate $\\hat{\\beta}_0$ and $\\hat{\\beta}_1$ using your results in part **(c)**. "
   ]
  },
  {
   "cell_type": "code",
   "execution_count": 6,
   "metadata": {},
   "outputs": [
    {
     "data": {
      "text/html": [
       "<style>\n",
       ".list-inline {list-style: none; margin:0; padding: 0}\n",
       ".list-inline>li {display: inline-block}\n",
       ".list-inline>li:not(:last-child)::after {content: \"\\00b7\"; padding: 0 .5ex}\n",
       "</style>\n",
       "<ol class=list-inline><li>0.000291505442023208</li><li>1.90680419363809e-07</li></ol>\n"
      ],
      "text/latex": [
       "\\begin{enumerate*}\n",
       "\\item 0.000291505442023208\n",
       "\\item 1.90680419363809e-07\n",
       "\\end{enumerate*}\n"
      ],
      "text/markdown": [
       "1. 0.000291505442023208\n",
       "2. 1.90680419363809e-07\n",
       "\n",
       "\n"
      ],
      "text/plain": [
       "[1] 2.915054e-04 1.906804e-07"
      ]
     },
     "metadata": {},
     "output_type": "display_data"
    }
   ],
   "source": [
    "# Solve for \\hat\\beta_1 and \\hat\\beta_0 and save these objects\n",
    "b1hat<- covxy/varx\n",
    "b0hat<- ybar-xbar*b1hat\n",
    "\n",
    "# Display results as a vector\n",
    "c(b0hat,b1hat)"
   ]
  },
  {
   "cell_type": "markdown",
   "metadata": {},
   "source": [
    "**(e)** Plot a line which indicates the predictions from your estimated model, $$\\hat{y}_i=\\hat{\\beta}_0+\\hat{\\beta}_1x_i.$$ *Hint: use the* `curve` and `points` *functions.*"
   ]
  },
  {
   "cell_type": "code",
   "execution_count": 7,
   "metadata": {},
   "outputs": [
    {
     "data": {
      "image/png": "[encoded data removed]",
      "text/plain": [
       "plot without title"
      ]
     },
     "metadata": {
      "image/png": {
       "height": 420,
       "width": 420
      }
     },
     "output_type": "display_data"
    }
   ],
   "source": [
    "# Plot the line\n",
    "curve(b0hat+b1hat*x, min(df$gdp_pc), max(df$gdp_pc), xlab='GDP per capita', ylab = 'Energy use per capita')\n",
    "\n",
    "# Overlay with data points\n",
    "points(df$gdp_pc,df$energy_pc)\n"
   ]
  },
  {
   "cell_type": "markdown",
   "metadata": {},
   "source": [
    "**(f)** Interpret your estimates $\\hat{\\beta}_0$ and $\\hat{\\beta}_1$."
   ]
  },
  {
   "cell_type": "markdown",
   "metadata": {},
   "source": [
    "$\\hat\\beta_0=$0.00003 means that the model predicts that a country with 0 GDP would have energy use equivalent to .0003 KT of oil. $\\hat\\beta_1=$1.9e-07 means that model predicts that each additional dollar of GDP leads to 1.9e-07 addition KT of oil equivalent energy use.   "
   ]
  },
  {
   "cell_type": "markdown",
   "metadata": {},
   "source": [
    "## Part 2.\n",
    "Suppose you estimate a weekly wage equation which suggests \n",
    "\n",
    "$$ \\log(wage_i)=6.45+.08*Ed_i+u_i$$ \n",
    "\n",
    "where $Ed_i$ is the number of years of education completed by person $i$. \n",
    "\n",
    "**(a)** Predict the wage for a person with 12 years of education (that is a person who completes high school)."
   ]
  },
  {
   "cell_type": "code",
   "execution_count": 8,
   "metadata": {},
   "outputs": [
    {
     "data": {
      "text/html": [
       "1652.42634686448"
      ],
      "text/latex": [
       "1652.42634686448"
      ],
      "text/markdown": [
       "1652.42634686448"
      ],
      "text/plain": [
       "[1] 1652.426"
      ]
     },
     "metadata": {},
     "output_type": "display_data"
    }
   ],
   "source": [
    "exp(6.45+.08*12)"
   ]
  },
  {
   "cell_type": "markdown",
   "metadata": {},
   "source": [
    "**(b)** Interpret your estimated $\\beta_1=$0.08."
   ]
  },
  {
   "cell_type": "markdown",
   "metadata": {},
   "source": [
    " An additional year of education is associated with 8% higher weekly wages.  "
   ]
  },
  {
   "cell_type": "code",
   "execution_count": null,
   "metadata": {},
   "outputs": [],
   "source": []
  }
 ],
 "metadata": {
  "kernelspec": {
   "display_name": "R",
   "language": "R",
   "name": "ir"
  },
  "language_info": {
   "codemirror_mode": "r",
   "file_extension": ".r",
   "mimetype": "text/x-r-source",
   "name": "R",
   "pygments_lexer": "r",
   "version": "4.0.5"
  }
 },
 "nbformat": 4,
 "nbformat_minor": 4
}
