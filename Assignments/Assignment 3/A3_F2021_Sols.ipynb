{
 "cells": [
  {
   "cell_type": "markdown",
   "metadata": {},
   "source": [
    "# Assignment 3 Solutions\n",
    "\n",
    "## Background\n",
    "\n",
    "The data for this exercise were used in Ebonya Washington's paper: \"Female Socialization: How Daughters Affect Their Legislator Fathers' Voting on Women's Issues.\"  published in the American Economic Review in 2008. The paper asks whether having daughters influences the voting behavior of members of the US Congress. The hypothesis is that having (more) daughters makes legislators more likely to vote liberally (in terms of political alignment, and in contrast to conservatively) on issues concerning women.\n",
    "\n",
    "For this exercise, we will focus on votes that took place in the 108th Congress, which held session in 2003/04. As a measure of a liberal voting record, we use scores assigned by the American Association of University Women (AAUW), a liberal group that concerns itself with issues of interest to women. For the 108th Congress, the AAUW selected 9 pieces of legislation in the areas of education, equality and reproductive rights. The AAUW then assigned a score to each member of Congress. The scores range from 0 to 100 and measure the percentage of times the legislator voted in favor of the position held by the AAUW.\n",
    "\n",
    " The dataset `legislators.dta` contains the following characteristics for a random sample of 386 members of the 108th Congress:\n",
    " \n",
    " * $ngirls$ number of daughters\n",
    " * $totchi$ total number of children\n",
    " * $age$ age\n",
    " * $female$ indicator for being female\n",
    " * $repub$ indicator for being a Republican\n",
    " * $moredef$ proportion of people in the legislator's district who are in favor of \"more spending on defense\" \n",
    " * $aauw$ AAUW score\n",
    " \n",
    "(For the purposes of this exercise, you can assume all members of the 108th Congress were either Democrats or Republicans and were either male or female.) "
   ]
  },
  {
   "cell_type": "markdown",
   "metadata": {},
   "source": [
    "### (a) Estimate and report results for the following regression models:\n",
    "\n",
    "Load in the data set `legislators.dta`. Remember, you will first need to call the `haven` package to do so.\n",
    "\n",
    "Generate a variable `ngirls2` $=\\text{ngirls}^2$\n",
    "\n",
    "Generate an interaction variable `repubngirls` $= \\text{repub}*\\text{ngirls}$\n",
    "\n",
    "Generate an interaction variable `repubngirls2` $=\\text{repub}*\\text{ngirls2}$\n",
    "\n",
    "Estimate the following three regression models, save the output as reg1, reg2, and reg3, and show the results of each using `summary()`:\n",
    "\n",
    "\\begin{align}\n",
    "aauw&=\\beta_0 +\\beta_1female+\\beta_2repub+\\beta_3ngirls+u  ~~~~~~~~~~~~~~~~~~~~~~~~~~~~~~~~~~~~~~~~~~~~~~~~~~~~~~~~~~~~~~~~ (1) \\\\\n",
    "aauw&=\\beta_0 +\\beta_1female+\\beta_2repub+\\beta_3ngirls+\\beta_4 ngirls2+u ~~~~~~~~~~~~~~~~~~~~~~~~~~~~~~~~~~~~~~~~~~~~~~~(2)  \\\\\n",
    "aauw&=\\beta_0 + \\beta_1female+\\beta_2repub+\\beta_3ngirls+\\beta_4 ngirls2+\\beta_5 repubngirls+\\beta_6 repubngirls2+\\beta_7 totchi + \\beta_8 moredef + u\\ \\ \\ (3) \n",
    "\\end{align}\n",
    "\n",
    "*(Note: this method of generating interaction variables (multiplying them together) is appropriate when one of the interacted variables is a dummy variable, but may not be appropriate in all cases.)*"
   ]
  },
  {
   "cell_type": "code",
   "execution_count": 1,
   "metadata": {
    "scrolled": true
   },
   "outputs": [
    {
     "name": "stderr",
     "output_type": "stream",
     "text": [
      "── \u001b[1mAttaching packages\u001b[22m ─────────────────────────────────────── tidyverse 1.3.1 ──\n",
      "\n",
      "\u001b[32m✔\u001b[39m \u001b[34mggplot2\u001b[39m 3.3.5     \u001b[32m✔\u001b[39m \u001b[34mpurrr  \u001b[39m 0.3.4\n",
      "\u001b[32m✔\u001b[39m \u001b[34mtibble \u001b[39m 3.1.3     \u001b[32m✔\u001b[39m \u001b[34mdplyr  \u001b[39m 1.0.7\n",
      "\u001b[32m✔\u001b[39m \u001b[34mtidyr  \u001b[39m 1.1.3     \u001b[32m✔\u001b[39m \u001b[34mstringr\u001b[39m 1.4.0\n",
      "\u001b[32m✔\u001b[39m \u001b[34mreadr  \u001b[39m 2.0.1     \u001b[32m✔\u001b[39m \u001b[34mforcats\u001b[39m 0.5.1\n",
      "\n",
      "── \u001b[1mConflicts\u001b[22m ────────────────────────────────────────── tidyverse_conflicts() ──\n",
      "\u001b[31m✖\u001b[39m \u001b[34mdplyr\u001b[39m::\u001b[32mfilter()\u001b[39m masks \u001b[34mstats\u001b[39m::filter()\n",
      "\u001b[31m✖\u001b[39m \u001b[34mdplyr\u001b[39m::\u001b[32mlag()\u001b[39m    masks \u001b[34mstats\u001b[39m::lag()\n",
      "\n"
     ]
    },
    {
     "data": {
      "text/html": [
       "<table class=\"dataframe\">\n",
       "<caption>A tibble: 6 × 7</caption>\n",
       "<thead>\n",
       "\t<tr><th scope=col>ngirls</th><th scope=col>totchi</th><th scope=col>repub</th><th scope=col>female</th><th scope=col>age</th><th scope=col>moredef</th><th scope=col>aauw</th></tr>\n",
       "\t<tr><th scope=col>&lt;dbl&gt;</th><th scope=col>&lt;dbl&gt;</th><th scope=col>&lt;dbl&gt;</th><th scope=col>&lt;dbl&gt;</th><th scope=col>&lt;dbl&gt;</th><th scope=col>&lt;dbl&gt;</th><th scope=col>&lt;dbl&gt;</th></tr>\n",
       "</thead>\n",
       "<tbody>\n",
       "\t<tr><td>1</td><td>3</td><td>0</td><td>0</td><td>60</td><td>17.09234</td><td> 75</td></tr>\n",
       "\t<tr><td>1</td><td>1</td><td>1</td><td>0</td><td>37</td><td>31.40097</td><td>  0</td></tr>\n",
       "\t<tr><td>2</td><td>6</td><td>1</td><td>0</td><td>55</td><td>23.44828</td><td>  0</td></tr>\n",
       "\t<tr><td>2</td><td>2</td><td>0</td><td>0</td><td>45</td><td>16.47510</td><td>100</td></tr>\n",
       "\t<tr><td>2</td><td>4</td><td>0</td><td>0</td><td>55</td><td>23.11688</td><td>100</td></tr>\n",
       "\t<tr><td>2</td><td>5</td><td>1</td><td>0</td><td>55</td><td>31.40097</td><td>  0</td></tr>\n",
       "</tbody>\n",
       "</table>\n"
      ],
      "text/latex": [
       "A tibble: 6 × 7\n",
       "\\begin{tabular}{lllllll}\n",
       " ngirls & totchi & repub & female & age & moredef & aauw\\\\\n",
       " <dbl> & <dbl> & <dbl> & <dbl> & <dbl> & <dbl> & <dbl>\\\\\n",
       "\\hline\n",
       "\t 1 & 3 & 0 & 0 & 60 & 17.09234 &  75\\\\\n",
       "\t 1 & 1 & 1 & 0 & 37 & 31.40097 &   0\\\\\n",
       "\t 2 & 6 & 1 & 0 & 55 & 23.44828 &   0\\\\\n",
       "\t 2 & 2 & 0 & 0 & 45 & 16.47510 & 100\\\\\n",
       "\t 2 & 4 & 0 & 0 & 55 & 23.11688 & 100\\\\\n",
       "\t 2 & 5 & 1 & 0 & 55 & 31.40097 &   0\\\\\n",
       "\\end{tabular}\n"
      ],
      "text/markdown": [
       "\n",
       "A tibble: 6 × 7\n",
       "\n",
       "| ngirls &lt;dbl&gt; | totchi &lt;dbl&gt; | repub &lt;dbl&gt; | female &lt;dbl&gt; | age &lt;dbl&gt; | moredef &lt;dbl&gt; | aauw &lt;dbl&gt; |\n",
       "|---|---|---|---|---|---|---|\n",
       "| 1 | 3 | 0 | 0 | 60 | 17.09234 |  75 |\n",
       "| 1 | 1 | 1 | 0 | 37 | 31.40097 |   0 |\n",
       "| 2 | 6 | 1 | 0 | 55 | 23.44828 |   0 |\n",
       "| 2 | 2 | 0 | 0 | 45 | 16.47510 | 100 |\n",
       "| 2 | 4 | 0 | 0 | 55 | 23.11688 | 100 |\n",
       "| 2 | 5 | 1 | 0 | 55 | 31.40097 |   0 |\n",
       "\n"
      ],
      "text/plain": [
       "  ngirls totchi repub female age moredef  aauw\n",
       "1 1      3      0     0      60  17.09234  75 \n",
       "2 1      1      1     0      37  31.40097   0 \n",
       "3 2      6      1     0      55  23.44828   0 \n",
       "4 2      2      0     0      45  16.47510 100 \n",
       "5 2      4      0     0      55  23.11688 100 \n",
       "6 2      5      1     0      55  31.40097   0 "
      ]
     },
     "metadata": {},
     "output_type": "display_data"
    },
    {
     "data": {
      "text/plain": [
       "\n",
       "Call:\n",
       "lm(formula = aauw ~ female + repub + ngirls, data = df)\n",
       "\n",
       "Residuals:\n",
       "    Min      1Q  Median      3Q     Max \n",
       "-86.215  -6.668  -5.976  13.439  56.024 \n",
       "\n",
       "Coefficients:\n",
       "            Estimate Std. Error t value Pr(>|t|)    \n",
       "(Intercept)  86.5608     1.6251  53.266  < 2e-16 ***\n",
       "female       11.4167     2.8473   4.010 7.31e-05 ***\n",
       "repub       -79.5468     1.7993 -44.210  < 2e-16 ***\n",
       "ngirls       -0.3460     0.7894  -0.438    0.661    \n",
       "---\n",
       "Signif. codes:  0 ‘***’ 0.001 ‘**’ 0.01 ‘*’ 0.05 ‘.’ 0.1 ‘ ’ 1\n",
       "\n",
       "Residual standard error: 17.4 on 382 degrees of freedom\n",
       "Multiple R-squared:  0.8449,\tAdjusted R-squared:  0.8437 \n",
       "F-statistic: 693.9 on 3 and 382 DF,  p-value: < 2.2e-16\n"
      ]
     },
     "metadata": {},
     "output_type": "display_data"
    },
    {
     "data": {
      "text/plain": [
       "\n",
       "Call:\n",
       "lm(formula = aauw ~ female + repub + ngirls + ngirls2, data = df)\n",
       "\n",
       "Residuals:\n",
       "    Min      1Q  Median      3Q     Max \n",
       "-86.382  -6.868  -6.233  13.618  55.767 \n",
       "\n",
       "Coefficients:\n",
       "            Estimate Std. Error t value Pr(>|t|)    \n",
       "(Intercept)  85.9703     1.8061  47.600  < 2e-16 ***\n",
       "female       11.6313     2.8632   4.062  5.9e-05 ***\n",
       "repub       -79.5145     1.8009 -44.154  < 2e-16 ***\n",
       "ngirls        0.6547     1.5490   0.423    0.673    \n",
       "ngirls2      -0.2430     0.3235  -0.751    0.453    \n",
       "---\n",
       "Signif. codes:  0 ‘***’ 0.001 ‘**’ 0.01 ‘*’ 0.05 ‘.’ 0.1 ‘ ’ 1\n",
       "\n",
       "Residual standard error: 17.41 on 381 degrees of freedom\n",
       "Multiple R-squared:  0.8452,\tAdjusted R-squared:  0.8436 \n",
       "F-statistic:   520 on 4 and 381 DF,  p-value: < 2.2e-16\n"
      ]
     },
     "metadata": {},
     "output_type": "display_data"
    },
    {
     "data": {
      "text/plain": [
       "\n",
       "Call:\n",
       "lm(formula = aauw ~ female + repub + ngirls + ngirls2 + repubngirl + \n",
       "    repubngirls2 + totchi + moredef, data = df)\n",
       "\n",
       "Residuals:\n",
       "    Min      1Q  Median      3Q     Max \n",
       "-85.436  -7.964  -1.367  11.292  54.591 \n",
       "\n",
       "Coefficients:\n",
       "             Estimate Std. Error t value Pr(>|t|)    \n",
       "(Intercept)   95.5997     3.6777  25.995  < 2e-16 ***\n",
       "female        11.6079     2.8334   4.097 5.13e-05 ***\n",
       "repub        -79.4364     3.0424 -26.110  < 2e-16 ***\n",
       "ngirls         0.4452     3.1682   0.141   0.8883    \n",
       "ngirls2        0.5286     0.8568   0.617   0.5376    \n",
       "repubngirl     2.1281     3.6217   0.588   0.5571    \n",
       "repubngirls2  -0.7477     0.9302  -0.804   0.4220    \n",
       "totchi        -2.0364     0.8066  -2.525   0.0120 *  \n",
       "moredef       -0.3166     0.1247  -2.540   0.0115 *  \n",
       "---\n",
       "Signif. codes:  0 ‘***’ 0.001 ‘**’ 0.01 ‘*’ 0.05 ‘.’ 0.1 ‘ ’ 1\n",
       "\n",
       "Residual standard error: 17.2 on 377 degrees of freedom\n",
       "Multiple R-squared:  0.8505,\tAdjusted R-squared:  0.8474 \n",
       "F-statistic: 268.2 on 8 and 377 DF,  p-value: < 2.2e-16\n"
      ]
     },
     "metadata": {},
     "output_type": "display_data"
    }
   ],
   "source": [
    "# Add Code for part (a) here.\n",
    "library(haven)\n",
    "library(tidyverse)\n",
    "options(warn=-1)\n",
    "\n",
    "df <- read_dta(\"legislators.dta\")\n",
    "head(df)\n",
    "\n",
    "#Create new variables\n",
    "df <- mutate(df, ngirls2 = ngirls^2, repubngirl = repub*ngirls, repubngirls2 = repub*ngirls2)\n",
    "\n",
    "#Estimate the three regressions\n",
    "reg1 <- lm(aauw ~ female + repub + ngirls, data = df)\n",
    "summary(reg1)\n",
    "\n",
    "reg2 <- lm(aauw ~ female + repub + ngirls + ngirls2, data = df)\n",
    "summary(reg2)\n",
    "\n",
    "reg3 <- lm(aauw ~ female + repub + ngirls + ngirls2 + repubngirl + repubngirls2 + totchi + moredef, data = df)\n",
    "summary(reg3)"
   ]
  },
  {
   "cell_type": "markdown",
   "metadata": {},
   "source": [
    "### (b) Suggest which model is the best fit to the data. How did you determine this? (no more than 1 sentence is required)"
   ]
  },
  {
   "cell_type": "markdown",
   "metadata": {},
   "source": [
    "The third model seems to be the best fit for the data, as the adjusted $R^2$ is the highest of the three models. "
   ]
  },
  {
   "cell_type": "markdown",
   "metadata": {},
   "source": [
    "### (c) Interpret the marginal effect at the mean of the number of daughters on AAUW score in each model.\n",
    "*(Hint: Calculate the total marginal effect, using the coefficients for all terms including the number of daughters. Calculating a marginal effect at the mean involves plugging in the mean number of daughters in the sample into any estimate of the total marginal effect of the number of daughters where this effect varies by the number of daughters.)*\n",
    "\n",
    "*(Hint: Instead of typing in numbers from the regressions manually, you can call regression coefficients using `summary(reg1)$coefficients[#,1]` for coefficient number # starting with the intercept as number 1.)*\n",
    "\n",
    "*(Hint: In model 3, the marginal effect will differ by particular subgroups. Interpret the different effects for each subgroup.)*"
   ]
  },
  {
   "cell_type": "code",
   "execution_count": 2,
   "metadata": {},
   "outputs": [
    {
     "data": {
      "text/html": [
       "-0.346022390451581"
      ],
      "text/latex": [
       "-0.346022390451581"
      ],
      "text/markdown": [
       "-0.346022390451581"
      ],
      "text/plain": [
       "[1] -0.3460224"
      ]
     },
     "metadata": {},
     "output_type": "display_data"
    },
    {
     "data": {
      "text/html": [
       "0.0643269405637884"
      ],
      "text/latex": [
       "0.0643269405637884"
      ],
      "text/markdown": [
       "0.0643269405637884"
      ],
      "text/plain": [
       "[1] 0.06432694"
      ]
     },
     "metadata": {},
     "output_type": "display_data"
    },
    {
     "data": {
      "text/html": [
       "1.72973734506802"
      ],
      "text/latex": [
       "1.72973734506802"
      ],
      "text/markdown": [
       "1.72973734506802"
      ],
      "text/plain": [
       "[1] 1.729737"
      ]
     },
     "metadata": {},
     "output_type": "display_data"
    },
    {
     "data": {
      "text/html": [
       "2.04094391771639"
      ],
      "text/latex": [
       "2.04094391771639"
      ],
      "text/markdown": [
       "2.04094391771639"
      ],
      "text/plain": [
       "[1] 2.040944"
      ]
     },
     "metadata": {},
     "output_type": "display_data"
    }
   ],
   "source": [
    "mean_ng <- mean(df$ngirls, na.rm=T)\n",
    "\n",
    "#Calculate the marginal effect for model 1:\n",
    "summary(reg1)$coefficients[4,1]\n",
    "\n",
    "#Calculate the marginal effect for model 2 at the mean:\n",
    "summary(reg2)$coefficients[4,1]+ 2*summary(reg2)$coefficients[5,1]*mean_ng\n",
    "\n",
    "#Calculate the marginal effect for model 2 at the mean for republicans/dems:\n",
    "summary(reg3)$coefficients[4,1]+ 2*summary(reg3)$coefficients[5,1]*mean_ng #dems\n",
    "summary(reg3)$coefficients[4,1]+ 2*summary(reg3)$coefficients[5,1]*mean_ng + \n",
    "    summary(reg3)$coefficients[6,1]+ 2*summary(reg3)$coefficients[7,1]*mean_ng #repubs"
   ]
  },
  {
   "cell_type": "markdown",
   "metadata": {},
   "source": [
    "Model 1: Each additional daughter of a legislator _reduces_ their AAUW score by 0.346 points, holding the gender of the legislator and whether the legislator is a republican constant.\n",
    "\n",
    "Model 2: Each additional daughter of a legislator changes their AAUW score by 0.6547 - 2 $\\times$ 0.243 $\\times\\ ngirls$ holding the gender of the legislator and the party affiliation of the legislator constant. Evaluating this at the mean number of daughters, this says that each additional daughter _increases_ the AAUW score by 0.064 points.\n",
    "\n",
    "Model 3: Holding constant the legislator's gender, party affiliation, total number of children, and the proportion of people in the legislator's district who are in favor of \"more spending on defense\", each additional daughter of a legislator changes their AAUW score by $.45 +2 \\times .53 \\times\\ ngirls+ 2.12 \\times repub-2\\times .75 \\times repub\\times ngirls$. At the mean of $ngirls$, this corresponds to a marginal effect of 1.72 points for Democrats and 2.04 for Republicans. "
   ]
  },
  {
   "cell_type": "markdown",
   "metadata": {},
   "source": [
    "### (d) Test whether there is an effect of the number of daughters on AAUW scores using the second model. Be sure to describe carefully the null and alternative hypothesis.\n",
    "*(Hint: You can access the residuals from a regression you have saved as reg by calling `reg$residuals`, and you can access the r-squared by calling `summary(reg)$r.squared`.)*"
   ]
  },
  {
   "cell_type": "markdown",
   "metadata": {},
   "source": [
    "Using model 2, there are two terms in the regression that include the number of daughters. Testing whether this has an effect on AAUW scores this requires a joint hypothesis test:\n",
    "\n",
    "\\begin{align}H_0:\\ & \\beta_3=0\\; \\&\\; \\beta_4=0\\\\H_1:\\ & \\beta_3\\neq0 \\text{ and/or } \\beta_4\\neq0\\end{align}"
   ]
  },
  {
   "cell_type": "markdown",
   "metadata": {},
   "source": [
    "Step 1: Estimate the restricted model.\n",
    "\n",
    "Step 2: Calculate the sum of squared residuals from the restricted and unrestricted models.\n",
    "\n",
    "Step 3: Apply the F-stat formula.\n",
    "\n",
    "Alternative (easier):\n",
    "\n",
    "Step 2 (alternative): Find the $R^2$ in the summary of the restricted and unrestricted models.\n",
    "\n",
    "Step 3 (alternative): Apply the $R^2$ version of the F-stat formula.\n",
    "\n",
    "\n"
   ]
  },
  {
   "cell_type": "code",
   "execution_count": 3,
   "metadata": {},
   "outputs": [
    {
     "data": {
      "text/html": [
       "0.377972643431848"
      ],
      "text/latex": [
       "0.377972643431848"
      ],
      "text/markdown": [
       "0.377972643431848"
      ],
      "text/plain": [
       "[1] 0.3779726"
      ]
     },
     "metadata": {},
     "output_type": "display_data"
    },
    {
     "data": {
      "text/html": [
       "0.377972643431664"
      ],
      "text/latex": [
       "0.377972643431664"
      ],
      "text/markdown": [
       "0.377972643431664"
      ],
      "text/plain": [
       "[1] 0.3779726"
      ]
     },
     "metadata": {},
     "output_type": "display_data"
    },
    {
     "data": {
      "text/html": [
       "381"
      ],
      "text/latex": [
       "381"
      ],
      "text/markdown": [
       "381"
      ],
      "text/plain": [
       "[1] 381"
      ]
     },
     "metadata": {},
     "output_type": "display_data"
    }
   ],
   "source": [
    "#First calculate SSR_U\n",
    "SSR_U<-sum(reg2$residuals^2)\n",
    "\n",
    "reg_restricted <-lm(aauw ~ female + repub, data=df)\n",
    "#summary(reg_restricted)\n",
    "\n",
    "SSR_R<-sum(reg_restricted$residuals^2)\n",
    "\n",
    "n<-nobs(reg2)\n",
    "k<-4\n",
    "q<-2\n",
    "\n",
    "F<-((SSR_R-SSR_U)/q)/(SSR_U/(n-k-1))\n",
    "F\n",
    "\n",
    "###or\n",
    "R2_U<-summary(reg2)$r.squared\n",
    "R2_R<-summary(reg_restricted)$r.squared\n",
    "\n",
    "F_2<-((R2_U-R2_R)/q)/((1-R2_U)/(n-k-1))\n",
    "F_2\n",
    "\n",
    "n-k-1\n"
   ]
  },
  {
   "cell_type": "markdown",
   "metadata": {},
   "source": [
    "With 2 numerator degrees of freedom and 381 denominator degrees of freedom the critical value is $\\approx$3 (for a 95% confidence level). Our F-statistic of 0.38 is lower than any reasonable critical value, so we fail to reject the null hypothesis. "
   ]
  },
  {
   "cell_type": "markdown",
   "metadata": {},
   "source": [
    "### (e) Using the third model, predict the AAUW score for male democrats who have 2 daughters and 1 son, and who have 25% of constituents who want more spending on defense, on average. Suggest a $95\\%$ CI for that predicted value.\n",
    "\n",
    "*(Hint: See part 3-A of Section Notes 8.)*"
   ]
  },
  {
   "cell_type": "code",
   "execution_count": 4,
   "metadata": {},
   "outputs": [
    {
     "data": {
      "text/plain": [
       "\n",
       "Call:\n",
       "lm(formula = aauw ~ female + repub + ngirls_aux + ngirls2_aux + \n",
       "    repubngirl + repubngirls2 + totchi_aux + moredef_aux, data = df)\n",
       "\n",
       "Residuals:\n",
       "    Min      1Q  Median      3Q     Max \n",
       "-85.436  -7.964  -1.367  11.292  54.591 \n",
       "\n",
       "Coefficients:\n",
       "             Estimate Std. Error t value Pr(>|t|)    \n",
       "(Intercept)   84.5800     2.0674  40.910  < 2e-16 ***\n",
       "female        11.6079     2.8334   4.097 5.13e-05 ***\n",
       "repub        -79.4364     3.0424 -26.110  < 2e-16 ***\n",
       "ngirls_aux     0.4452     3.1682   0.141   0.8883    \n",
       "ngirls2_aux    0.5286     0.8568   0.617   0.5376    \n",
       "repubngirl     2.1281     3.6217   0.588   0.5571    \n",
       "repubngirls2  -0.7477     0.9302  -0.804   0.4220    \n",
       "totchi_aux    -2.0364     0.8066  -2.525   0.0120 *  \n",
       "moredef_aux   -0.3166     0.1247  -2.540   0.0115 *  \n",
       "---\n",
       "Signif. codes:  0 ‘***’ 0.001 ‘**’ 0.01 ‘*’ 0.05 ‘.’ 0.1 ‘ ’ 1\n",
       "\n",
       "Residual standard error: 17.2 on 377 degrees of freedom\n",
       "Multiple R-squared:  0.8505,\tAdjusted R-squared:  0.8474 \n",
       "F-statistic: 268.2 on 8 and 377 DF,  p-value: < 2.2e-16\n"
      ]
     },
     "metadata": {},
     "output_type": "display_data"
    },
    {
     "name": "stdout",
     "output_type": "stream",
     "text": [
      "[1] \"Predicted value:84.5799623261095\"\n",
      "[1] \"Confidence interval: [80.5277736498458 88.6321510023732]\"\n"
     ]
    }
   ],
   "source": [
    "#Recenter RHS variables around desired values\n",
    "df$ngirls_aux <- df$ngirls-2\n",
    "df$ngirls2_aux <- df$ngirls2-4\n",
    "df$totchi_aux <- df$totchi-3\n",
    "df$moredef_aux <- df$moredef-25 \n",
    "\n",
    "#Run auxilliary regression\n",
    "reg3_aux <- lm(aauw ~  female + repub + ngirls_aux + ngirls2_aux + repubngirl + repubngirls2 + totchi_aux + moredef_aux, data = df)\n",
    "summary(reg3_aux)\n",
    "pred_val <- summary(reg3_aux)$coefficients[1,1]\n",
    "ci_lower<- pred_val-1.96*summary(reg3_aux)$coefficients[1,2]\n",
    "ci_upper<- pred_val+1.96*summary(reg3_aux)$coefficients[1,2]\n",
    "\n",
    "print(paste0('Predicted value:', pred_val))\n",
    "print(paste0('Confidence interval: [',ci_lower,' ',ci_upper, ']'))"
   ]
  },
  {
   "cell_type": "markdown",
   "metadata": {},
   "source": [
    "Here we are using the trick in the Section 8 Notes, where we first recenter our independent variables around the desired values (such that $\\tilde x_j=0$ when $x_j$ equals the value we want to test). Then we re-run our regression model with these 'augmented' variables. $\\hat\\beta_0$ in this regression thus gives us the predicted AAUW score at our desired x values and comes with the correct standard error. We can use this estimated coefficient and its standard error to construct a 95% confidence interval in the usual way."
   ]
  },
  {
   "cell_type": "markdown",
   "metadata": {},
   "source": [
    "### (f) Suppose a particular male Democrat has 2 daughters and 1 son in a state where 25% of constituents want more spending on defense. Generate a $95\\%$ CI for his *particular* AAUW score, continuing to use the third model.\n",
    "\n",
    "*(Hint: See part 3-B of Section Notes 8. Note that you can use most the values you already calculated in part (e) to answer this question.)* "
   ]
  },
  {
   "cell_type": "code",
   "execution_count": 5,
   "metadata": {},
   "outputs": [
    {
     "name": "stdout",
     "output_type": "stream",
     "text": [
      "[1] \"Confidence interval: [50.6348575966548 118.525067055564]\"\n"
     ]
    },
    {
     "data": {
      "text/html": [
       "4.27432139422112"
      ],
      "text/latex": [
       "4.27432139422112"
      ],
      "text/markdown": [
       "4.27432139422112"
      ],
      "text/plain": [
       "[1] 4.274321"
      ]
     },
     "metadata": {},
     "output_type": "display_data"
    },
    {
     "data": {
      "text/html": [
       "295.671049048731"
      ],
      "text/latex": [
       "295.671049048731"
      ],
      "text/markdown": [
       "295.671049048731"
      ],
      "text/plain": [
       "[1] 295.671"
      ]
     },
     "metadata": {},
     "output_type": "display_data"
    }
   ],
   "source": [
    "var_yhat <- (summary(reg3_aux)$coefficients[1,2])^2\n",
    "sigma2_hat <- (summary(reg3_aux)$sigma)^2\n",
    "ci_lower2 <- pred_val-1.96*sqrt(var_yhat+sigma2_hat)\n",
    "ci_upper2 <- pred_val+1.96*sqrt(var_yhat+sigma2_hat)\n",
    "print(paste0('Confidence interval: [',ci_lower2,' ',ci_upper2, ']'))\n",
    "var_yhat\n",
    "sigma2_hat"
   ]
  },
  {
   "cell_type": "markdown",
   "metadata": {},
   "source": [
    "Note the difference from part (e) is that we are now predicting the value for one particular observation rather than *average* male Democrat with the specified values. Our point estimate will be the same, but we will need to calculate new standard errors to construct this confidence interval. Follow the formula in the Section Notes 8, 3-B to obtain that $\\widehat{s.e.(\\hat u^0)}=\\sqrt{Var (\\hat y)+\\hat\\sigma^2}$. Now we just have to plug this new standard error back into the confidence interval (our predicted value doesn't change) \n",
    "\n",
    "$${CI}^0=[\\hat y - 1.96se(\\hat u^0), \\hat y+1.96se(\\hat u^0) ]$$ where $Var(\\hat y) = 4.274$ and $\\hat\\sigma^2=295.67$"
   ]
  },
  {
   "cell_type": "markdown",
   "metadata": {},
   "source": [
    "### (g) Suppose you think Republicans and non-Republicans may have different gender patterns in voting with respect to the AAUW score. That is, republican men may vote differently than Republican women, who may vote differently than Democratic women who may vote differently than Democratic men. Write down an estimation equation you could use to test whether Republican women, Democratic women, and Democratic men each vote differently than Republican men. Specify what your null and alternative hypotheses would be."
   ]
  },
  {
   "cell_type": "markdown",
   "metadata": {},
   "source": [
    "To test this hypothesis, we could create variables for these categories of legislators and run the following regression: \n",
    "$$aauw=\\beta_0+\\beta_1 repubwoman +\\beta_2 demwoman +\\beta_3 demman +u $$ \n",
    "\n",
    "Note that we left out Republican men as the omitted category, meaning all effects will be interpreted relative to the Republican men. We can test the separate null hypotheses that $\\beta_j=0$ against the alternative hypothesis that $\\beta_j\\neq 0$ for $j=(1,2,3)$ using a t-test. (An F-test would be used to test the null that Republican men vote the same as Republican women and Democratic men and women as a whole, which is not what we are asking.)\n",
    "\n",
    "One could also write \n",
    "$$aauw=\\beta_0+\\beta_1dem+\\beta_2female +\\beta_3 dem\\times female+u$$\n",
    "\n",
    "with a slightly different test and interpretation of $\\beta_3$ in the next part."
   ]
  },
  {
   "cell_type": "markdown",
   "metadata": {},
   "source": [
    "### (h) Implement your test. Interpret each coeffcient.\n",
    "*(Hint: To create dummy variables based on particular characteristics, it is easiest to first create the dummy variable and set it equal to 0 for all observations: `data$dummy<0`. Then, replace the values for that dummy with 1 for the observations that match the requirements you are looking for, as in `data[data$x1==0 & data$x2==1,]$dummy<-1`.)*\n",
    "\n",
    "*(Hint: If you need to, you can include an interaction term in your regression using `:`. For example `lm(y~x1+x2+x1:x2,data=data)` includes an interaction between `x1` and `x2`. You will need to load the `car` package.)*\n"
   ]
  },
  {
   "cell_type": "code",
   "execution_count": 6,
   "metadata": {},
   "outputs": [
    {
     "data": {
      "text/plain": [
       "\n",
       "Call:\n",
       "lm(formula = aauw ~ repubwoman + demwoman + demman, data = df)\n",
       "\n",
       "Residuals:\n",
       "    Min      1Q  Median      3Q     Max \n",
       "-86.586  -6.246  -6.246  13.414  55.754 \n",
       "\n",
       "Coefficients:\n",
       "            Estimate Std. Error t value Pr(>|t|)    \n",
       "(Intercept)    6.246      1.257    4.97 1.01e-06 ***\n",
       "repubwoman    16.111      4.809    3.35 0.000889 ***\n",
       "demwoman      89.168      3.462   25.76  < 2e-16 ***\n",
       "demman        80.339      1.888   42.55  < 2e-16 ***\n",
       "---\n",
       "Signif. codes:  0 ‘***’ 0.001 ‘**’ 0.01 ‘*’ 0.05 ‘.’ 0.1 ‘ ’ 1\n",
       "\n",
       "Residual standard error: 17.37 on 382 degrees of freedom\n",
       "Multiple R-squared:  0.8455,\tAdjusted R-squared:  0.8443 \n",
       "F-statistic: 696.7 on 3 and 382 DF,  p-value: < 2.2e-16\n"
      ]
     },
     "metadata": {},
     "output_type": "display_data"
    },
    {
     "name": "stderr",
     "output_type": "stream",
     "text": [
      "Loading required package: carData\n",
      "\n",
      "\n",
      "Attaching package: ‘car’\n",
      "\n",
      "\n",
      "The following object is masked from ‘package:dplyr’:\n",
      "\n",
      "    recode\n",
      "\n",
      "\n",
      "The following object is masked from ‘package:purrr’:\n",
      "\n",
      "    some\n",
      "\n",
      "\n"
     ]
    },
    {
     "data": {
      "text/plain": [
       "\n",
       "Call:\n",
       "lm(formula = aauw ~ female + dem + female:dem, data = df)\n",
       "\n",
       "Residuals:\n",
       "    Min      1Q  Median      3Q     Max \n",
       "-86.586  -6.246  -6.246  13.414  55.754 \n",
       "\n",
       "Coefficients:\n",
       "            Estimate Std. Error t value Pr(>|t|)    \n",
       "(Intercept)    6.246      1.257   4.970 1.01e-06 ***\n",
       "female        16.111      4.809   3.350 0.000889 ***\n",
       "dem           80.339      1.888  42.553  < 2e-16 ***\n",
       "female:dem    -7.283      5.960  -1.222 0.222460    \n",
       "---\n",
       "Signif. codes:  0 ‘***’ 0.001 ‘**’ 0.01 ‘*’ 0.05 ‘.’ 0.1 ‘ ’ 1\n",
       "\n",
       "Residual standard error: 17.37 on 382 degrees of freedom\n",
       "Multiple R-squared:  0.8455,\tAdjusted R-squared:  0.8443 \n",
       "F-statistic: 696.7 on 3 and 382 DF,  p-value: < 2.2e-16\n"
      ]
     },
     "metadata": {},
     "output_type": "display_data"
    },
    {
     "data": {
      "text/html": [
       "<table class=\"dataframe\">\n",
       "<caption>A anova: 2 × 6</caption>\n",
       "<thead>\n",
       "\t<tr><th></th><th scope=col>Res.Df</th><th scope=col>RSS</th><th scope=col>Df</th><th scope=col>Sum of Sq</th><th scope=col>F</th><th scope=col>Pr(&gt;F)</th></tr>\n",
       "\t<tr><th></th><th scope=col>&lt;dbl&gt;</th><th scope=col>&lt;dbl&gt;</th><th scope=col>&lt;dbl&gt;</th><th scope=col>&lt;dbl&gt;</th><th scope=col>&lt;dbl&gt;</th><th scope=col>&lt;dbl&gt;</th></tr>\n",
       "</thead>\n",
       "<tbody>\n",
       "\t<tr><th scope=row>1</th><td>383</td><td>315432.1</td><td>NA</td><td>      NA</td><td>      NA</td><td>         NA</td></tr>\n",
       "\t<tr><th scope=row>2</th><td>382</td><td>115250.6</td><td> 1</td><td>200181.5</td><td>663.5051</td><td>1.55425e-85</td></tr>\n",
       "</tbody>\n",
       "</table>\n"
      ],
      "text/latex": [
       "A anova: 2 × 6\n",
       "\\begin{tabular}{r|llllll}\n",
       "  & Res.Df & RSS & Df & Sum of Sq & F & Pr(>F)\\\\\n",
       "  & <dbl> & <dbl> & <dbl> & <dbl> & <dbl> & <dbl>\\\\\n",
       "\\hline\n",
       "\t1 & 383 & 315432.1 & NA &       NA &       NA &          NA\\\\\n",
       "\t2 & 382 & 115250.6 &  1 & 200181.5 & 663.5051 & 1.55425e-85\\\\\n",
       "\\end{tabular}\n"
      ],
      "text/markdown": [
       "\n",
       "A anova: 2 × 6\n",
       "\n",
       "| <!--/--> | Res.Df &lt;dbl&gt; | RSS &lt;dbl&gt; | Df &lt;dbl&gt; | Sum of Sq &lt;dbl&gt; | F &lt;dbl&gt; | Pr(&gt;F) &lt;dbl&gt; |\n",
       "|---|---|---|---|---|---|---|\n",
       "| 1 | 383 | 315432.1 | NA |       NA |       NA |          NA |\n",
       "| 2 | 382 | 115250.6 |  1 | 200181.5 | 663.5051 | 1.55425e-85 |\n",
       "\n"
      ],
      "text/plain": [
       "  Res.Df RSS      Df Sum of Sq F        Pr(>F)     \n",
       "1 383    315432.1 NA       NA        NA          NA\n",
       "2 382    115250.6  1 200181.5  663.5051 1.55425e-85"
      ]
     },
     "metadata": {},
     "output_type": "display_data"
    }
   ],
   "source": [
    "df$repubwoman<-0\n",
    "df[df$repub==1 & df$female==1,]$repubwoman<-1\n",
    "\n",
    "df$demwoman<-0\n",
    "df[df$repub==0 & df$female==1,]$demwoman<-1\n",
    "\n",
    "df$demman<-0\n",
    "df[df$repub==0 & df$female==0,]$demman<-1\n",
    "\n",
    "#Direct way\n",
    "reg4<-lm(aauw ~ repubwoman +demwoman +demman, data=df)\n",
    "summary(reg4)\n",
    "\n",
    "df <- mutate(df, dem= 1-repub)\n",
    "\n",
    "#Interaction way\n",
    "library(car)\n",
    "reg4_alt<-lm(aauw ~ female+dem+female:dem, data=df)\n",
    "summary(reg4_alt)\n",
    "linearHypothesis(reg4_alt, 'female+dem+female:dem=0')"
   ]
  },
  {
   "cell_type": "markdown",
   "metadata": {},
   "source": [
    "$\\hat\\beta_1=16.11$ means that on average, Republican women have a 16.11 percentage point higher AAUW score than the omitted category, Republican men (who have a score of 6.24). $\\hat\\beta_2=89.168$ means that on average, Democratic women have an 89 percentage point higher AAUW score than Republican men and $\\hat\\beta_3=80.33$ means that on average, Democratic men have a 80.3 percentage point higher AAUW score than Republican men. All of these coefficients are significant at the 1\\% level or lower, which means there is stastical evidence that each group votes differently from Republican men: we can reject the null that they vote the same with respect to the AAUW score. \n",
    "\n",
    "If you ran the interacted model, then the coefficients for Republican women (female) and Democratic men (dem) would have the same interpretation as above, but for Democratic women, you would need to use a t-test to test the null that $\\beta_1+\\beta_2+\\beta_3=0$ rather than just testing $\\beta_3=0$. That is because the total effect of being a Democratric woman is the sum of those coefficients. Calculating the correct standard error for this t-test would be challenging. Using `linearHypothesis` or `lincom` will allow you to test this hypothesis. We show the output from using `linearHypothesis`, and observe that the F-stat of 663 is very large (and associated p-value is very small) so we can strongly reject the null hypothesis that the sum of those coefficients is 0. Notice also that the F-stat of 663 is the square of the t-stat we obtain in the first model for the coefficient on demwoman - this is due to the relationship between the F and t distributions."
   ]
  },
  {
   "cell_type": "markdown",
   "metadata": {},
   "source": [
    "### (i) Adapt your regression to test whether Democratic women vote differently than Republican women with respect to the AAUW score. Write out the estimating equation and report your results."
   ]
  },
  {
   "cell_type": "code",
   "execution_count": 7,
   "metadata": {
    "scrolled": true
   },
   "outputs": [
    {
     "data": {
      "text/plain": [
       "\n",
       "Call:\n",
       "lm(formula = aauw ~ repubman + demwoman + demman, data = df)\n",
       "\n",
       "Residuals:\n",
       "    Min      1Q  Median      3Q     Max \n",
       "-86.586  -6.246  -6.246  13.414  55.754 \n",
       "\n",
       "Coefficients:\n",
       "            Estimate Std. Error t value Pr(>|t|)    \n",
       "(Intercept)   22.357      4.642   4.816 2.11e-06 ***\n",
       "repubman     -16.111      4.809  -3.350 0.000889 ***\n",
       "demwoman      73.057      5.653  12.924  < 2e-16 ***\n",
       "demman        64.228      4.851  13.239  < 2e-16 ***\n",
       "---\n",
       "Signif. codes:  0 ‘***’ 0.001 ‘**’ 0.01 ‘*’ 0.05 ‘.’ 0.1 ‘ ’ 1\n",
       "\n",
       "Residual standard error: 17.37 on 382 degrees of freedom\n",
       "Multiple R-squared:  0.8455,\tAdjusted R-squared:  0.8443 \n",
       "F-statistic: 696.7 on 3 and 382 DF,  p-value: < 2.2e-16\n"
      ]
     },
     "metadata": {},
     "output_type": "display_data"
    },
    {
     "data": {
      "text/html": [
       "<table class=\"dataframe\">\n",
       "<caption>A anova: 2 × 6</caption>\n",
       "<thead>\n",
       "\t<tr><th></th><th scope=col>Res.Df</th><th scope=col>RSS</th><th scope=col>Df</th><th scope=col>Sum of Sq</th><th scope=col>F</th><th scope=col>Pr(&gt;F)</th></tr>\n",
       "\t<tr><th></th><th scope=col>&lt;dbl&gt;</th><th scope=col>&lt;dbl&gt;</th><th scope=col>&lt;dbl&gt;</th><th scope=col>&lt;dbl&gt;</th><th scope=col>&lt;dbl&gt;</th><th scope=col>&lt;dbl&gt;</th></tr>\n",
       "</thead>\n",
       "<tbody>\n",
       "\t<tr><th scope=row>1</th><td>383</td><td>165644.4</td><td>NA</td><td>     NA</td><td>      NA</td><td>          NA</td></tr>\n",
       "\t<tr><th scope=row>2</th><td>382</td><td>115250.6</td><td> 1</td><td>50393.8</td><td>167.0311</td><td>5.991823e-32</td></tr>\n",
       "</tbody>\n",
       "</table>\n"
      ],
      "text/latex": [
       "A anova: 2 × 6\n",
       "\\begin{tabular}{r|llllll}\n",
       "  & Res.Df & RSS & Df & Sum of Sq & F & Pr(>F)\\\\\n",
       "  & <dbl> & <dbl> & <dbl> & <dbl> & <dbl> & <dbl>\\\\\n",
       "\\hline\n",
       "\t1 & 383 & 165644.4 & NA &      NA &       NA &           NA\\\\\n",
       "\t2 & 382 & 115250.6 &  1 & 50393.8 & 167.0311 & 5.991823e-32\\\\\n",
       "\\end{tabular}\n"
      ],
      "text/markdown": [
       "\n",
       "A anova: 2 × 6\n",
       "\n",
       "| <!--/--> | Res.Df &lt;dbl&gt; | RSS &lt;dbl&gt; | Df &lt;dbl&gt; | Sum of Sq &lt;dbl&gt; | F &lt;dbl&gt; | Pr(&gt;F) &lt;dbl&gt; |\n",
       "|---|---|---|---|---|---|---|\n",
       "| 1 | 383 | 165644.4 | NA |      NA |       NA |           NA |\n",
       "| 2 | 382 | 115250.6 |  1 | 50393.8 | 167.0311 | 5.991823e-32 |\n",
       "\n"
      ],
      "text/plain": [
       "  Res.Df RSS      Df Sum of Sq F        Pr(>F)      \n",
       "1 383    165644.4 NA      NA         NA           NA\n",
       "2 382    115250.6  1 50393.8   167.0311 5.991823e-32"
      ]
     },
     "metadata": {},
     "output_type": "display_data"
    }
   ],
   "source": [
    "options(warn=-1)\n",
    "df$repubman<-0\n",
    "df[df$repub==1 & df$female==0,]$repubman<-1\n",
    "\n",
    "reg5<-lm(aauw~ repubman + demwoman +demman, data=df)\n",
    "summary(reg5)\n",
    "\n",
    "#Alternatively\n",
    "linearHypothesis(reg4, 'demwoman = repubwoman')\n"
   ]
  },
  {
   "cell_type": "markdown",
   "metadata": {},
   "source": [
    "We rewrite the model to make Republican women the omitted category and estimate the equation:  $$aauw=\\beta_0+\\beta_1 repubman +\\beta_2 demwoman +\\beta_3 demman +u $$\n",
    "\n",
    "Here we see that: on average, Democratic women have an aauw score that is 73.05 points higher than that of Republican women and is highly significant ($t=12.924$). We could also use the `linearHypothesis` function from the `car` package and test $\\beta_1=\\beta_2$ from the model in part (i) directly. We would obtain an F-stat of 167, which is highly significant as well (and is in fact the square of the $t$-stat). "
   ]
  },
  {
   "cell_type": "markdown",
   "metadata": {},
   "source": [
    "## Downloading your Notebook\n",
    "\n",
    "Download a PDF copy of your notebook by using __File > Download as HTML.__ Alternatively, go to print preview and __Save as PDF__ (but make sure your code does not get cut off at the side of the page!)"
   ]
  }
 ],
 "metadata": {
  "kernelspec": {
   "display_name": "R",
   "language": "R",
   "name": "ir"
  },
  "language_info": {
   "codemirror_mode": "r",
   "file_extension": ".r",
   "mimetype": "text/x-r-source",
   "name": "R",
   "pygments_lexer": "r",
   "version": "4.1.1"
  }
 },
 "nbformat": 4,
 "nbformat_minor": 2
}
