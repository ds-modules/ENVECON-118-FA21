{
 "cells": [
  {
   "cell_type": "markdown",
   "metadata": {},
   "source": [
    "# Big Assignment 4"
   ]
  },
  {
   "cell_type": "markdown",
   "metadata": {},
   "source": [
    "Governments in many African countries have recently adopted fertilizer subsidies as an attempt to increase agricultural producitivity for small farmers. However there is widespread debate over whether these are effective policies. To generate evidence Carter, Lajaaj and Yang (2021) partnered with the Mozambican government to run a randomized controlled trial, in which farmers were randomly offered a voucher for subsidized fertilizer. (The paper is [Subsidies and the African Green Revolution: Direct Effects and Social Network Spillovers of Randomized Input Subsidies in Mozambique](https://www.aeaweb.org/articles?id=10.1257/app.20190396) _American Economic Journal: Applied Economics_ 13(2).)\n",
    "\n",
    "We are going to work with a subset of their data for this problem set to estimate the effects of fertilizer use on maize yields. "
   ]
  },
  {
   "cell_type": "markdown",
   "metadata": {},
   "source": [
    "### Part A:\n",
    "\n",
    "**Suppose the government did not conduct a randomized controlled trial. Instead they surveyed farmers and compared maize yields for those who did and did not use fertilizer. Would this comparison allow you to estimate the effect of fertilizer on maize yields? Explain why or why not using both words and potential outcomes notation. How would the expression for the estimated impact of fertilizer on maize yields differ if fertilizer use were randomized?**"
   ]
  },
  {
   "cell_type": "markdown",
   "metadata": {},
   "source": [
    "Answer here"
   ]
  },
  {
   "cell_type": "markdown",
   "metadata": {},
   "source": [
    "### Part B:\n",
    "\n",
    "Now let's analyze the RCT data. The dataset contains observations of nine variables from 390 farm households. The variables are as follows\n",
    "- $respid$: This is just the unique ID for each farmer\n",
    "- $lyieldr$: This is the log of maize yields\n",
    "- $vouch$: This is the treatment variable of interest - equal to 1 if the household was given a voucher to purchase fertilizer (i.e. in the treatment group) and 0 otherwise (i.e in the control group)\n",
    "- $irrigprev$: This is a dummy equal to 1 if households used irrigation and 0 otherwise\n",
    "- $pestdprev$: This is a dummy equal to 1 if households used pesticides and 0 otherwise \n",
    "- $hhhmale$: This is a dummy equal to 1 if the household head is male and 0 if the household head is female\n",
    "- $hhhage$: This is the age of the household head\n",
    "- $hhheduc$: This is the number of years of education of the household head\n",
    "- $hhsize$: This is the number of members in the household \n",
    "\n",
    "Note that all variables other than maize yield were measured *before* the distribution of vouchers. For irrigation and pesticide use, they were measured the year before the voucher intervention.\n",
    "\n",
    "a) **Before running any regressions, show how you can obtain the average treatment effect (ATE) of fertilizer vouchers on (log) maize yields. Then write down the regression you could use to estimate the ATE.**"
   ]
  },
  {
   "cell_type": "markdown",
   "metadata": {},
   "source": [
    "Answer here"
   ]
  },
  {
   "cell_type": "markdown",
   "metadata": {},
   "source": [
    "**b) Read in the data from `ps4_data.dta` (remember you need to use the `read_dta` function from the `haven` package to read `.dta` files. You will also probably want to load `tidyverse`). Then, estimate the regression you wrote down using `lm()` and test whether the ATE is statistically significant at a 95\\% confidence level.**"
   ]
  },
  {
   "cell_type": "code",
   "execution_count": null,
   "metadata": {},
   "outputs": [],
   "source": []
  },
  {
   "cell_type": "markdown",
   "metadata": {},
   "source": [
    "Discuss your results here"
   ]
  },
  {
   "cell_type": "markdown",
   "metadata": {},
   "source": [
    "### Part C:\n",
    "**a) Now let's check to make sure our sample is balanced across treatment and control. For each of the four household demographics variables, conduct a t-test against the null that they are on average equal between treatment and control.** \n",
    "\n",
    "**Coding Hints**: The command for a t-test is `t.test()`. One way to test whether coviarate $X$ is correlated with treatment status $T$, you can put `X~T` inside `t.test()`, just like you would for `lm()`. If you just want to print the t-stat or the p-value rather than the entire test output, you can call `$statistic` or `$p.value`, respectively. \n",
    "\n",
    "You can repeat this separately for each covariate, but if you want to be extra fancy you can use the `lapply()` function. `lapply()` is super useful for applying a function repeatedly over different variables. The way you would use it here is `lapply(X, function (x) FUN)` where `X` is the data frame of the variables you are interested in testing and `FUN` is the function you want to apply. One of the arguments of this function should be (small) `x`, which serves as a stand-in for the column of (big) `X` that you want to apply the function over. Finally, if you want to show the output as a single data frame (instead of a list), you can wrap all of this with `as.data.frame()`. With all of this information, you could theoretically produce a nice-ish table of p-values for the four tests you run using a single line of code. You are not required or expected to use this method, but it might come in handy if you find yourself having to work with larger datasets in the future."
   ]
  },
  {
   "cell_type": "code",
   "execution_count": null,
   "metadata": {},
   "outputs": [],
   "source": []
  },
  {
   "cell_type": "markdown",
   "metadata": {},
   "source": [
    "**b) Do you conclude that the sample is well-balanced? Are you surprised or concerned by any of the results? If so, what could you do to address your concerns?**"
   ]
  },
  {
   "cell_type": "markdown",
   "metadata": {},
   "source": [
    "Answer here"
   ]
  },
  {
   "cell_type": "markdown",
   "metadata": {},
   "source": [
    "### Part D\n",
    "\n",
    "**a) What happens if you control for additional covariates (household demographics and previous use of irrigation and pesticides) in this regression? What (if any) advantages are there to controlling for these variables? What (if any) disadvantages are there?**"
   ]
  },
  {
   "cell_type": "markdown",
   "metadata": {},
   "source": [
    "Answer here"
   ]
  },
  {
   "cell_type": "markdown",
   "metadata": {},
   "source": [
    "**b) Run the regression controlling for all six of these variables. Interpret how your results change, if at all.** "
   ]
  },
  {
   "cell_type": "code",
   "execution_count": null,
   "metadata": {},
   "outputs": [],
   "source": []
  },
  {
   "cell_type": "markdown",
   "metadata": {},
   "source": [
    "Interpret your results here"
   ]
  },
  {
   "cell_type": "markdown",
   "metadata": {},
   "source": [
    "### Part E\n",
    "\n",
    "**You think households might differ in their ability to correctly apply fertilizer in order to increase their maize yields. You hypothesize that households that use pesticides might have more knowledge about appropriate input use, so might experience larger increases in maize yields if they receive a fertilizer voucher. Propose, implement, and interpret a test of whether the effect of vouchers on log maize yields is different for households that used pesticides the prior year, building on the model from Part D.**"
   ]
  },
  {
   "cell_type": "markdown",
   "metadata": {},
   "source": [
    "Text here"
   ]
  },
  {
   "cell_type": "code",
   "execution_count": 1,
   "metadata": {},
   "outputs": [],
   "source": [
    "# code here"
   ]
  },
  {
   "cell_type": "markdown",
   "metadata": {},
   "source": [
    "Text here"
   ]
  },
  {
   "cell_type": "markdown",
   "metadata": {},
   "source": [
    "### Part F\n",
    "\n",
    "Of course, not everyone who was offered a voucher ended up redeeming it and using fertilizer. So what we've estimated so far for the average treatment effect of _receiving a fertilizer subsidy voucher on yields_  can be interpreted as an **intent to treat** estimate for the effect of  _fertilizer application on yields_.\n",
    "\n",
    "**Suppose 75\\% of people who were offered vouchers ended up using fertilizer, compared to 10\\% of people in the control group. Write down a Treatment on the Treated estimator and calculate it using your result from Part D (you don't have to run any additional regressions for this part). Under what circumstances would this be equal to the average treatment effect of using fertilizer? Do you think these hold in this context?**"
   ]
  },
  {
   "cell_type": "code",
   "execution_count": 2,
   "metadata": {},
   "outputs": [],
   "source": [
    "#calculations here"
   ]
  },
  {
   "cell_type": "markdown",
   "metadata": {},
   "source": [
    "Discussion here"
   ]
  }
 ],
 "metadata": {
  "kernelspec": {
   "display_name": "R",
   "language": "R",
   "name": "ir"
  },
  "language_info": {
   "codemirror_mode": "r",
   "file_extension": ".r",
   "mimetype": "text/x-r-source",
   "name": "R",
   "pygments_lexer": "r",
   "version": "4.1.1"
  }
 },
 "nbformat": 4,
 "nbformat_minor": 2
}
