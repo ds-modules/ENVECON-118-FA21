{
 "cells": [
  {
   "cell_type": "markdown",
   "metadata": {},
   "source": [
    "# Small Assignment 2 Solutions"
   ]
  },
  {
   "cell_type": "markdown",
   "metadata": {},
   "source": [
    "<em>Due September 24th by 11:59pm PT. Download your notebook with your code and responses as a PDF via HTML and submit to Gradescope.</em>\n",
    "\n",
    "The following model is a simplified version of the multiple regression model used by Biddle and\n",
    "Hammermesh (1990) to study the tradeoff between time spent sleeping and working and to\n",
    "look at other factors affecting sleep\n",
    "\n",
    "$\\textrm{sleep}=\\beta_0+\\beta_1\\textrm{totwrk}+\\beta_2\\textrm{yrsmarr}+\\beta_3\\textrm{yngkid}+u$\n",
    "\n",
    "where sleep and total work are measured in minutes per week, yrsmarr is the number of years married, and yngkid is a dummy variable (taking a value of 0 or 1) for whether the person has a young child."
   ]
  },
  {
   "cell_type": "markdown",
   "metadata": {},
   "source": [
    "### 1. If adults tradeoff sleep for work, what is the sign of $\\beta_1$?\n",
    "\n",
    "(Note: typing the words \"beta 1\" is fine. If you want to have it as math notation, type: \\$ \\beta_1 \\$ . You can double click this cell and copy the code.)"
   ]
  },
  {
   "cell_type": "markdown",
   "metadata": {},
   "source": [
    "If adults trade off sleep for work, we would expect a negative $\\beta_1$, as the more work adults do, the less sleep they will have."
   ]
  },
  {
   "cell_type": "markdown",
   "metadata": {},
   "source": [
    "### 2. What signs to you think $\\beta_2$ and $\\beta_3$ will have?"
   ]
  },
  {
   "cell_type": "markdown",
   "metadata": {},
   "source": [
    "Example Answer: I expect $\\beta_2$ to be positive – holding constant total work time and the presence of a young child, I expect being married longer to be associated with increases in sleep because people who have been married for longer are also more likely to be older, which may mean that they have a more consistent sleep schedule and take more naps (you can also argue for the opposite sign).\n",
    "\n",
    "I expect $\\beta_3$ to be negative – holding constant years married and total work, I expect having a young child to be associated with decreases in sleep because having a young child likely increases stress and makes it harder to sleep, particularly if the child has trouble sleeping. (Again, you might also argue for the opposite sign).\n",
    "\n",
    "Regardless of the sign you chose for each, remember that because you are dealing with multiple regression, you need to think of the sign of the beta you’re asked about $\\mathbf{\\text{holding the other variables in the model constant!}}$"
   ]
  },
  {
   "cell_type": "markdown",
   "metadata": {},
   "source": [
    "### 3. Load in the dataset: sleep75.dta and estimate the above model using `lm()`. Display the results with the `summary()` command.  \n",
    "Hint: <em>Remember that this is a .dta file, meaning that the `haven` package and `read_dta()` commands will be useful. You may also look at the Jupyter Notebook for section 3, which uses these data, for some example code.</em>"
   ]
  },
  {
   "cell_type": "code",
   "execution_count": 1,
   "metadata": {},
   "outputs": [
    {
     "data": {
      "text/plain": [
       "\n",
       "Call:\n",
       "lm(formula = sleep ~ totwrk + yrsmarr + yngkid, data = sleepdata)\n",
       "\n",
       "Residuals:\n",
       "     Min       1Q   Median       3Q      Max \n",
       "-2415.52  -247.80     2.68   253.82  1355.80 \n",
       "\n",
       "Coefficients:\n",
       "              Estimate Std. Error t value Pr(>|t|)    \n",
       "(Intercept) 3568.03648   44.46777  80.239   <2e-16 ***\n",
       "totwrk        -0.14927    0.01682  -8.876   <2e-16 ***\n",
       "yrsmarr        1.35323    1.39702   0.969    0.333    \n",
       "yngkid        -5.51006   48.10672  -0.115    0.909    \n",
       "---\n",
       "Signif. codes:  0 ‘***’ 0.001 ‘**’ 0.01 ‘*’ 0.05 ‘.’ 0.1 ‘ ’ 1\n",
       "\n",
       "Residual standard error: 421.4 on 702 degrees of freedom\n",
       "Multiple R-squared:  0.1046,\tAdjusted R-squared:  0.1008 \n",
       "F-statistic: 27.33 on 3 and 702 DF,  p-value: < 2.2e-16\n"
      ]
     },
     "metadata": {},
     "output_type": "display_data"
    }
   ],
   "source": [
    "library(haven)\n",
    "sleepdata<-read_dta(\"sleep75.dta\")\n",
    "\n",
    "sleepreg<-lm(sleep~totwrk+yrsmarr+yngkid, data=sleepdata)\n",
    "summary(sleepreg)"
   ]
  },
  {
   "cell_type": "markdown",
   "metadata": {},
   "source": [
    "### 4. Interpret the effect $\\hat{\\beta}_1 $ (for now, don't worry about significance)."
   ]
  },
  {
   "cell_type": "markdown",
   "metadata": {},
   "source": [
    "An increase of 1 minute per week of work is associated with a decrease of 0.1546 minutes per week of sleep, holding constant years married and having a young child."
   ]
  },
  {
   "cell_type": "markdown",
   "metadata": {},
   "source": [
    "### 5. Discuss whether assumptions MLR1-MLR4 are reasonable or may be violated in these data. "
   ]
  },
  {
   "cell_type": "markdown",
   "metadata": {},
   "source": [
    "MLR1–It seems plausible that the model linear in its parameters (no reason to think otherwise).\n",
    "\n",
    "MLR2–Having a random sample is contingent on the sampling method, so it may be violated if the authors were very selective about how they chose their sample (for example, do they only include workers?). We would need to refer to the paper which describes the data to understand this better.\n",
    "\n",
    "MLR3–None of the independent variables in the model are likely to be perfectly collinear with one another. It is reasonable to expect that years married, having a young child, and total work do not perfectly explain one another. We can confirm this is true because we were able to estimate the model without any variable being dropped from the estimation.\n",
    "\n",
    "MLR4–It is likely the case that this assumption is not satisfied. We are perhaps not including something that matters within our model, such as the total number of people in the household (where you might imagine that\n",
    "the larger the household, the more noise people will make, and the less sleep one is likely able to have) that is also correlated with the included variables."
   ]
  },
  {
   "cell_type": "code",
   "execution_count": null,
   "metadata": {},
   "outputs": [],
   "source": []
  }
 ],
 "metadata": {
  "kernelspec": {
   "display_name": "R",
   "language": "R",
   "name": "ir"
  },
  "language_info": {
   "codemirror_mode": "r",
   "file_extension": ".r",
   "mimetype": "text/x-r-source",
   "name": "R",
   "pygments_lexer": "r",
   "version": "4.1.1"
  }
 },
 "nbformat": 4,
 "nbformat_minor": 2
}
