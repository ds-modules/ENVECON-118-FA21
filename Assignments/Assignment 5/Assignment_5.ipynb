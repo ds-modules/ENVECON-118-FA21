{
 "cells": [
  {
   "cell_type": "markdown",
   "metadata": {},
   "source": [
    "# EEP/IAS 118 - Problem Set 5\n",
    "\n",
    "## Due __Friday, December 3__ at 11:59PM. \n",
    "\n",
    "Submit materials as one combined pdf on __Gradescope__. All work can be completed in this notebook. Make sure to run (`shift` + `enter`) all your answer cells before submission to make sure all your output is displayed. After exporting your file to PDF, make sure that your output cells are not being cut off so we can read all of your code and results. If your output is getting cut off, try different ways of generating a PDF (File->Download as->PDF via HTML; go to print in your browser and save as PDF; whatever has worked for you or your peers in the past)."
   ]
  },
  {
   "cell_type": "markdown",
   "metadata": {
    "deletable": false
   },
   "source": [
    "# Exercise 1. The Effect of Minimum Wage on Employment - Difference-in-Differences\n",
    "\n",
    "## Background\n",
    "\n",
    "\n",
    "In this exercise, we are going to look at a classic paper in the labor economics literature (note that we are only giving you a subset of the data, so your results are not going to match the results in the paper). This paper answers a very important (and often controversial!) question in economic policy: does increasing the minimum wage increase unemployment (or conversely, reduce employment)? Proponents of minimum wage laws point to the benefits for individuals who remain employed in low wage jobs. Opponents of minimum wage laws argue that the increases in labor costs result in higher unemployment because employers hire less employees to offset the cost increases. Card and Krueger (1994) test this latter hypothesis using the minimum wage increase in New Jersey that went into effect in 1992. They surveyed fast food establishments in New Jersey and Pennsylvania both before and after the policy came into effect, collecting information on wages, employment and prices. Pre-policy change interviews are coded as 1992 and post-policy change interviews are coded as 1993 in your data for the sake of simplicity. This data is then used to obtain a difference-in-differences estimate of the effect of minimum wage laws on employment. \n",
    "\n",
    "The dataset is saved as `minwage_data.csv` and contains the following variables:\n",
    "    \n",
    "\n",
    "|    Variable Name     | Description                       | \n",
    "|----------------------|-----------------------------------|\n",
    "| $store\\_id $      | Unique Store ID      |\n",
    "| $year    $ | Year    |\n",
    "| $state   $  | Dummy =1 if store is located in New Jersey, =0 for Pennsylvania     |\n",
    "| $shore  $  | Dummy =1 if store is located on New Jersey Shore, =0 otherwise    |\n",
    "| $empft   $   | Number of full-time employees in a store    |\n",
    "| $emppt  $    | Number of part-time employees in a store    |\n",
    "| $nmgrs  $    | Number of managers in a store    |\n",
    "| $wage\\_st $     | Starting wage in a store    |\n",
    "| $pentree $    | Price of an entree   |\n",
    "| $fte  $    | Number of full-time equivalent employees in a store ($empft+0.5emppt+nmgrs$)   |\n"
   ]
  },
  {
   "cell_type": "markdown",
   "metadata": {},
   "source": [
    "## Question 1.1.\n",
    "\n",
    "### Load the data. Generate a summary table with two columns and two rows. There should be two columns:  one for New Jersey (Treatment column) and one for Pennsylvania (Control column) and two rows: one for the pre-period (year 1992), one for the post-period (year 1993). Within each cell, compute the mean number of full-time equivalent employees (the variable $fte$).\n",
    "*Hint: Remember that you can subset data by writing, for example `data[data$var1==0 & data$var2==7,]$var3` to select values for var3 for observations in data that meet the given criteria for var1 and var2. The command `cbind` may be helpful for constructing your table. Remember that you can create a vector of values using `c()`.*\n",
    "\n",
    "*Hint: Consider loading necessary packages for the rest of the assignment here as well. It is good practice to load all necessary packages at the beginning of your code. Think about what packages we have needed previously in this class. You will also need the `lfe` package.*"
   ]
  },
  {
   "cell_type": "code",
   "execution_count": 1,
   "metadata": {},
   "outputs": [],
   "source": [
    "# Write code here"
   ]
  },
  {
   "cell_type": "markdown",
   "metadata": {},
   "source": [
    "## Question 1.2.\n",
    "\n",
    "### State the difference-in-differences estimator for the change in full-time equivalent employees in terms of the following quantities $\\bar Y_{NJ, pre}, \\bar Y_{NJ, post}, \\bar Y_{Penn, pre}, \\bar Y_{Penn, post}$, where $\\bar Y$ refers to the mean of $fte$  (writing a formula in R code is ok). Using the means reported in part 1, calculate a value for the estimator you just proposed."
   ]
  },
  {
   "cell_type": "code",
   "execution_count": 2,
   "metadata": {},
   "outputs": [],
   "source": [
    "# Write code here"
   ]
  },
  {
   "cell_type": "markdown",
   "metadata": {},
   "source": [
    "Write text here (if necessary)."
   ]
  },
  {
   "cell_type": "markdown",
   "metadata": {},
   "source": [
    "## Question 1.3.\n",
    "\n",
    "### Let's proceed with estimating the difference-in-differences estimator via a regression:\n",
    "\n",
    "#### (a)  Write an equation that will give you the difference-in-differences estimator for the impact of the minimum wage increase on full time equivalent employees. State which coefficient gives the estimated treatment effect of this policy."
   ]
  },
  {
   "cell_type": "markdown",
   "metadata": {},
   "source": [
    "Write text here"
   ]
  },
  {
   "cell_type": "markdown",
   "metadata": {},
   "source": [
    "#### (b) Perform the estimation. \n",
    "*Hint: You will need to create a 'post' dummy variable from the 'year' variable to run this regression. Note that 'state' is already a dummy variable.*"
   ]
  },
  {
   "cell_type": "code",
   "execution_count": 3,
   "metadata": {},
   "outputs": [],
   "source": [
    "# write code here"
   ]
  },
  {
   "cell_type": "markdown",
   "metadata": {},
   "source": [
    "#### (c) What do you conclude from the results of your estimation (about the differences between NJ and PA, and the effect of the policy change)? Confirm that the results in this part are the same as your estimate in Question 1.2."
   ]
  },
  {
   "cell_type": "markdown",
   "metadata": {},
   "source": [
    "Write text here"
   ]
  },
  {
   "cell_type": "markdown",
   "metadata": {},
   "source": [
    "## Question 1.4.\n",
    "\n",
    "### In this question, we will explore the identifying assumptions for the difference-in-differences estimator.\n",
    "\n",
    "#### (a) What key assumption do you need to make for your regression in part 1.3 to estimate the causal effect of minimum wage laws?\n"
   ]
  },
  {
   "cell_type": "markdown",
   "metadata": {},
   "source": [
    "Write text here"
   ]
  },
  {
   "cell_type": "markdown",
   "metadata": {},
   "source": [
    "#### (b) What additional data might you need to provide evidence for this assumption?"
   ]
  },
  {
   "cell_type": "markdown",
   "metadata": {
    "deletable": false
   },
   "source": [
    "Write text here"
   ]
  },
  {
   "cell_type": "markdown",
   "metadata": {},
   "source": [
    "## Question 1.5.\n",
    "\n",
    "### Let's say that we wanted to estimate the effect of minimum wage laws on full-time equivalent employment ($fte$), but we only had data from New Jersey. Using only data for New Jersey, estimate and interpret the effect of minimum wage laws on full-time employment. Interpret your result, including testing for significance. \n",
    "*Hint: Save the subset of data from New Jersey as a new dataset, and run your regression on that dataset.*"
   ]
  },
  {
   "cell_type": "code",
   "execution_count": 1,
   "metadata": {},
   "outputs": [],
   "source": [
    "# write code here "
   ]
  },
  {
   "cell_type": "markdown",
   "metadata": {},
   "source": [
    "Write text here"
   ]
  },
  {
   "cell_type": "markdown",
   "metadata": {},
   "source": [
    "## Question 1.6. \n",
    "\n",
    "###  In no more than 3 sentences, compare your result from Question 1.4 to your result from Question 1.5. If you draw different conclusions from these results, what might explain this difference, and why might one estimator be preferable?"
   ]
  },
  {
   "cell_type": "markdown",
   "metadata": {
    "deletable": false
   },
   "source": [
    "Write text here"
   ]
  },
  {
   "cell_type": "markdown",
   "metadata": {},
   "source": [
    "## Question 1.7\n",
    "\n",
    "\n",
    "### Consider each of the following statements (that are not necessarily true) and discuss whether it supports, violates, or is irrelevant to assumptions necessary for the DD estimator to provide a valid causal effect in this case. If it violates the assumptions, discuss how it might bias the results.\n",
    "\n",
    "1. New Jersey has long been considered one of the worst places in the US to live because of poverty, crime, and pollution.\n",
    "2. Manufacturing and coal are big parts of Pennsylvania's economy (but not New Jersey's). During the late 1980s and early 1990s, employment in these sectors steadily dropped as the US continued to deindustrialize and open up to trade.\n",
    "3. In 1993, McDonald's reintroduced the McRib, increasing demand for fast-food nationwide.\n",
    "4. In 1993, New Jersey elected a new governor who implemented a sweeping wave of state-level reforms including infrastructure investments, tax cuts, and welfare expansion alongside the minimum wage law. "
   ]
  },
  {
   "cell_type": "markdown",
   "metadata": {},
   "source": [
    "Write text here"
   ]
  },
  {
   "cell_type": "markdown",
   "metadata": {},
   "source": [
    "# Exercise 2:  Schoolbus Replacements and Attendance - Panel Regression\n",
    "\n",
    "## Background\n",
    "\n",
    "\n",
    "In this problem, we will look at the effect of replacing highly-polluting school buses on students' health. Many school districts in California, particularly less wealthy school districts, have school buses that are many decades old. These buses do not have many of the pollution controls that are now standard in vehicles, exposing the students that ride them to high concentrations of pollutants. In 2006, the state of California passed a proposition that allocated funds towards replacing the oldest of these school buses with new models that had adequate pollution controls. We have data for these replacements for the years 2009-2012, with the number of replacements per year more or less increasing over the sample period. This data is combined with attendance data from all school districts in California over the same period to test the impact of reducing pollution exposure through bus replacements on student health. Attendance is used to measure student health because students who are chronically ill are often absent from school. The full dataset is described in detail below.\n",
    "\n",
    " The dataset `Schoolbuses_PS5.dta` is an unbalanced panel of 200 school districts for the years 2009-2012, and contains the following variables:\n",
    " \n",
    " \n",
    "\n",
    "|    Variable Name     | Description                       | \n",
    "|----------------------|-----------------------------------|\n",
    "| $district\\_code $      | Unique School District Identifier    |\n",
    "| $year    $ | Year    |\n",
    "| $bus\\_replace   $  | Number of Buses Replaced   |\n",
    "| $attendance  $  | Percent of students in attendance, on average in the year   |\n",
    "| $gifted  $   | Numberof students in the Gifted Student Program  |\n",
    "| $white $    | Number of White Students  |\n",
    "| $college $    | Number of Students with Parents that Attended College   |\n",
    "| $advtgd $     | Number of Students from Higher Socio-Economic Backgrounds    |\n",
    "| $fleet\\_size $    | Number of Buses in the District Fleet   |\n",
    "| $pupils\\_trans  $    | Average Number of Students Traveling per Day   |\n",
    "| $enrollment$     | Number of Students Enrolled in the District \n",
    " \n",
    "Some summary statistics are provided below"
   ]
  },
  {
   "cell_type": "code",
   "execution_count": 5,
   "metadata": {
    "scrolled": true
   },
   "outputs": [
    {
     "data": {
      "text/html": [
       "<table class=\"dataframe\">\n",
       "<caption>A data.frame: 6 × 11</caption>\n",
       "<thead>\n",
       "\t<tr><th></th><th scope=col>district_code</th><th scope=col>year</th><th scope=col>bus_replace</th><th scope=col>attendance</th><th scope=col>gifted</th><th scope=col>white</th><th scope=col>college</th><th scope=col>advtgd</th><th scope=col>fleet_size</th><th scope=col>pupils_trans</th><th scope=col>enrollment</th></tr>\n",
       "\t<tr><th></th><th scope=col>&lt;int&gt;</th><th scope=col>&lt;int&gt;</th><th scope=col>&lt;dbl&gt;</th><th scope=col>&lt;dbl&gt;</th><th scope=col>&lt;int&gt;</th><th scope=col>&lt;int&gt;</th><th scope=col>&lt;int&gt;</th><th scope=col>&lt;int&gt;</th><th scope=col>&lt;dbl&gt;</th><th scope=col>&lt;dbl&gt;</th><th scope=col>&lt;int&gt;</th></tr>\n",
       "</thead>\n",
       "<tbody>\n",
       "\t<tr><th scope=row>1</th><td>261333</td><td>2012</td><td>11.750881</td><td>92.57732</td><td>  0</td><td>  31</td><td>   6</td><td>  25</td><td> 3</td><td> 63.5</td><td>   97</td></tr>\n",
       "\t<tr><th scope=row>2</th><td>461382</td><td>2010</td><td> 0.000000</td><td>93.43200</td><td> 17</td><td>  87</td><td>  22</td><td>  36</td><td> 2</td><td> 31.0</td><td>  125</td></tr>\n",
       "\t<tr><th scope=row>3</th><td>461382</td><td>2011</td><td> 2.060723</td><td>91.42857</td><td> 14</td><td>  71</td><td>  21</td><td>  28</td><td> 1</td><td> 62.0</td><td>  126</td></tr>\n",
       "\t<tr><th scope=row>4</th><td>461382</td><td>2012</td><td> 3.942311</td><td>94.70634</td><td> 13</td><td>  62</td><td>  19</td><td>  25</td><td> 1</td><td> 44.5</td><td>  126</td></tr>\n",
       "\t<tr><th scope=row>5</th><td>461408</td><td>2012</td><td> 3.942311</td><td>93.39887</td><td> 18</td><td> 202</td><td>  37</td><td> 134</td><td> 4</td><td> 70.0</td><td>  534</td></tr>\n",
       "\t<tr><th scope=row>6</th><td>461424</td><td>2010</td><td> 0.000000</td><td>92.08743</td><td>776</td><td>6081</td><td>1976</td><td>5670</td><td>10</td><td>694.0</td><td>12364</td></tr>\n",
       "</tbody>\n",
       "</table>\n"
      ],
      "text/latex": [
       "A data.frame: 6 × 11\n",
       "\\begin{tabular}{r|lllllllllll}\n",
       "  & district\\_code & year & bus\\_replace & attendance & gifted & white & college & advtgd & fleet\\_size & pupils\\_trans & enrollment\\\\\n",
       "  & <int> & <int> & <dbl> & <dbl> & <int> & <int> & <int> & <int> & <dbl> & <dbl> & <int>\\\\\n",
       "\\hline\n",
       "\t1 & 261333 & 2012 & 11.750881 & 92.57732 &   0 &   31 &    6 &   25 &  3 &  63.5 &    97\\\\\n",
       "\t2 & 461382 & 2010 &  0.000000 & 93.43200 &  17 &   87 &   22 &   36 &  2 &  31.0 &   125\\\\\n",
       "\t3 & 461382 & 2011 &  2.060723 & 91.42857 &  14 &   71 &   21 &   28 &  1 &  62.0 &   126\\\\\n",
       "\t4 & 461382 & 2012 &  3.942311 & 94.70634 &  13 &   62 &   19 &   25 &  1 &  44.5 &   126\\\\\n",
       "\t5 & 461408 & 2012 &  3.942311 & 93.39887 &  18 &  202 &   37 &  134 &  4 &  70.0 &   534\\\\\n",
       "\t6 & 461424 & 2010 &  0.000000 & 92.08743 & 776 & 6081 & 1976 & 5670 & 10 & 694.0 & 12364\\\\\n",
       "\\end{tabular}\n"
      ],
      "text/markdown": [
       "\n",
       "A data.frame: 6 × 11\n",
       "\n",
       "| <!--/--> | district_code &lt;int&gt; | year &lt;int&gt; | bus_replace &lt;dbl&gt; | attendance &lt;dbl&gt; | gifted &lt;int&gt; | white &lt;int&gt; | college &lt;int&gt; | advtgd &lt;int&gt; | fleet_size &lt;dbl&gt; | pupils_trans &lt;dbl&gt; | enrollment &lt;int&gt; |\n",
       "|---|---|---|---|---|---|---|---|---|---|---|---|\n",
       "| 1 | 261333 | 2012 | 11.750881 | 92.57732 |   0 |   31 |    6 |   25 |  3 |  63.5 |    97 |\n",
       "| 2 | 461382 | 2010 |  0.000000 | 93.43200 |  17 |   87 |   22 |   36 |  2 |  31.0 |   125 |\n",
       "| 3 | 461382 | 2011 |  2.060723 | 91.42857 |  14 |   71 |   21 |   28 |  1 |  62.0 |   126 |\n",
       "| 4 | 461382 | 2012 |  3.942311 | 94.70634 |  13 |   62 |   19 |   25 |  1 |  44.5 |   126 |\n",
       "| 5 | 461408 | 2012 |  3.942311 | 93.39887 |  18 |  202 |   37 |  134 |  4 |  70.0 |   534 |\n",
       "| 6 | 461424 | 2010 |  0.000000 | 92.08743 | 776 | 6081 | 1976 | 5670 | 10 | 694.0 | 12364 |\n",
       "\n"
      ],
      "text/plain": [
       "  district_code year bus_replace attendance gifted white college advtgd\n",
       "1 261333        2012 11.750881   92.57732     0      31     6      25  \n",
       "2 461382        2010  0.000000   93.43200    17      87    22      36  \n",
       "3 461382        2011  2.060723   91.42857    14      71    21      28  \n",
       "4 461382        2012  3.942311   94.70634    13      62    19      25  \n",
       "5 461408        2012  3.942311   93.39887    18     202    37     134  \n",
       "6 461424        2010  0.000000   92.08743   776    6081  1976    5670  \n",
       "  fleet_size pupils_trans enrollment\n",
       "1  3          63.5           97     \n",
       "2  2          31.0          125     \n",
       "3  1          62.0          126     \n",
       "4  1          44.5          126     \n",
       "5  4          70.0          534     \n",
       "6 10         694.0        12364     "
      ]
     },
     "metadata": {},
     "output_type": "display_data"
    },
    {
     "name": "stdout",
     "output_type": "stream",
     "text": [
      "[1] \"Sum Stats\"\n"
     ]
    },
    {
     "data": {
      "text/html": [
       "<table class=\"dataframe\">\n",
       "<caption>A data.frame: 3 × 5</caption>\n",
       "<thead>\n",
       "\t<tr><th scope=col>Variable</th><th scope=col>mean</th><th scope=col>sd</th><th scope=col>min</th><th scope=col>max</th></tr>\n",
       "\t<tr><th scope=col>&lt;chr&gt;</th><th scope=col>&lt;dbl&gt;</th><th scope=col>&lt;dbl&gt;</th><th scope=col>&lt;dbl&gt;</th><th scope=col>&lt;dbl&gt;</th></tr>\n",
       "</thead>\n",
       "<tbody>\n",
       "\t<tr><td>Bus Replacements</td><td>   2.351899</td><td>   3.315411</td><td>0</td><td>   12.92825</td></tr>\n",
       "\t<tr><td>Enrollment      </td><td>1006.066536</td><td>1562.073757</td><td>7</td><td>12931.00000</td></tr>\n",
       "\t<tr><td>Fleet Size      </td><td>   5.406863</td><td>   6.550293</td><td>0</td><td>   95.00000</td></tr>\n",
       "</tbody>\n",
       "</table>\n"
      ],
      "text/latex": [
       "A data.frame: 3 × 5\n",
       "\\begin{tabular}{lllll}\n",
       " Variable & mean & sd & min & max\\\\\n",
       " <chr> & <dbl> & <dbl> & <dbl> & <dbl>\\\\\n",
       "\\hline\n",
       "\t Bus Replacements &    2.351899 &    3.315411 & 0 &    12.92825\\\\\n",
       "\t Enrollment       & 1006.066536 & 1562.073757 & 7 & 12931.00000\\\\\n",
       "\t Fleet Size       &    5.406863 &    6.550293 & 0 &    95.00000\\\\\n",
       "\\end{tabular}\n"
      ],
      "text/markdown": [
       "\n",
       "A data.frame: 3 × 5\n",
       "\n",
       "| Variable &lt;chr&gt; | mean &lt;dbl&gt; | sd &lt;dbl&gt; | min &lt;dbl&gt; | max &lt;dbl&gt; |\n",
       "|---|---|---|---|---|\n",
       "| Bus Replacements |    2.351899 |    3.315411 | 0 |    12.92825 |\n",
       "| Enrollment       | 1006.066536 | 1562.073757 | 7 | 12931.00000 |\n",
       "| Fleet Size       |    5.406863 |    6.550293 | 0 |    95.00000 |\n",
       "\n"
      ],
      "text/plain": [
       "  Variable         mean        sd          min max        \n",
       "1 Bus Replacements    2.351899    3.315411 0      12.92825\n",
       "2 Enrollment       1006.066536 1562.073757 7   12931.00000\n",
       "3 Fleet Size          5.406863    6.550293 0      95.00000"
      ]
     },
     "metadata": {},
     "output_type": "display_data"
    }
   ],
   "source": [
    "schooldata <- read.csv(\"Schoolbuses_PS5.csv\")\n",
    "head(schooldata)\n",
    "\n",
    "# Summary Stats\n",
    "busrep <- summarize(schooldata, mean = mean(bus_replace),\n",
    "             sd= sd(bus_replace),\n",
    "             min= min(bus_replace),\n",
    "             max = max(bus_replace))\n",
    "enroll <- summarize(schooldata, mean = mean(enrollment),\n",
    "             sd = sd(enrollment),\n",
    "             min = min(enrollment),\n",
    "             max = max(enrollment))\n",
    "fleet <- summarize(schooldata, mean = mean(fleet_size, na.rm = TRUE),\n",
    "             sd = sd(fleet_size, na.rm = TRUE),\n",
    "             min = min(fleet_size, na.rm = TRUE),\n",
    "             max = max(fleet_size, na.rm = TRUE))\n",
    "\n",
    "ss <- rbind(busrep, enroll, fleet)\n",
    "sumstats <- cbind(c(\"Bus Replacements\", \"Enrollment\", \"Fleet Size\"), ss)\n",
    "names(sumstats)[1] <- \"Variable\"\n",
    "\n",
    "print('Sum Stats')\n",
    "sumstats"
   ]
  },
  {
   "cell_type": "markdown",
   "metadata": {},
   "source": [
    "## Question 2.1.\n",
    "\n",
    "### You think that it might be important to control for the year in your regression of attendance on bus replacements.  First, generate year dummy variables $(yr_{2009}, yr_{2010}, yr_{2011}, yr_{2012})$.  Next, estimate the following equation for school attendance.\n",
    "\\begin{align*}\n",
    "attendance_{it} = \\beta_0+ \\beta_1 bus\\_replace_{it} + \\beta_2white_{it} &+ \\beta_3college_{it} + \\beta_4advtgd_{it} + \\beta_5gifted_{it} \\ \\ \\ \\ \\ \\ (1) \\\\\n",
    "&+ \\delta_1yr_{2010} + \\delta_2yr_{2011} + \\delta_3yr_{2012} + u_{it}    \n",
    "\\end{align*}\n",
    "\n",
    "#### (a) Estimate the model and report your results."
   ]
  },
  {
   "cell_type": "code",
   "execution_count": 4,
   "metadata": {},
   "outputs": [],
   "source": [
    "#write code here"
   ]
  },
  {
   "cell_type": "markdown",
   "metadata": {},
   "source": [
    "#### (b) Give the meaning (economic interpretation) of $\\beta_0$ and $\\delta_{1}$"
   ]
  },
  {
   "cell_type": "markdown",
   "metadata": {},
   "source": [
    "Write text here"
   ]
  },
  {
   "cell_type": "markdown",
   "metadata": {},
   "source": [
    "#### (c) Interpret $\\hat \\beta_1$.  Be sure to mention sign, size, and significance and what is being held constant."
   ]
  },
  {
   "cell_type": "markdown",
   "metadata": {},
   "source": [
    "Write text here"
   ]
  },
  {
   "cell_type": "markdown",
   "metadata": {},
   "source": [
    "#### (d) Why is the year 2009 dummy excluded?"
   ]
  },
  {
   "cell_type": "markdown",
   "metadata": {},
   "source": [
    "Write text here"
   ]
  },
  {
   "cell_type": "markdown",
   "metadata": {},
   "source": [
    "## Question 2.2.\n",
    "\n",
    "### Consider now the following (unobserved) fixed effects model:\n",
    "\\begin{align*}\n",
    "attendance_{it} =\\beta_0+ \\beta_1 bus\\_replace_{it} + \\beta_2white_{it} + \\beta_3college_{it} + \\beta_4advtgd_{it}+ \\beta_5gifted_{it} + \\boldsymbol{\\delta}_t+\\mathbf{a_i} +u_{it} \\ \\ \\ (2)\n",
    "\\end{align*}\n",
    "#### (a) Why are we adding district fixed effects ($\\mathbf{a_{i}}$)? In other words, what do these fixed effects control for in the regression? "
   ]
  },
  {
   "cell_type": "markdown",
   "metadata": {},
   "source": [
    "Write text here"
   ]
  },
  {
   "cell_type": "markdown",
   "metadata": {},
   "source": [
    "#### (b)  Estimate the model and interpret $\\hat \\beta_1$.  Be sure to mention sign, size, and significance and what is being held constant.\n",
    "*Hint: Use `felm`. Remember to use `as.factor` to turn your fixed effects variables into factors (dummy variables for each category).*"
   ]
  },
  {
   "cell_type": "code",
   "execution_count": 5,
   "metadata": {},
   "outputs": [],
   "source": [
    "#write code here"
   ]
  },
  {
   "cell_type": "markdown",
   "metadata": {},
   "source": [
    "Write text here"
   ]
  },
  {
   "cell_type": "markdown",
   "metadata": {},
   "source": [
    "#### (c) Comment specifically on how the size of $\\hat \\beta_1$ changes from model (1) to model (2). Describe your intuition for why it changes in the way that it does, and a possible omitted variable that could explain the differences. "
   ]
  },
  {
   "cell_type": "markdown",
   "metadata": {},
   "source": [
    "Write text here"
   ]
  },
  {
   "cell_type": "markdown",
   "metadata": {},
   "source": [
    "## Question 2.3.\n",
    "\n",
    "### What is the MLR 4 assumption for model (2) to be unbiased? Do you think it is likely to hold in this case? Whatever position you take, give your argument."
   ]
  },
  {
   "cell_type": "markdown",
   "metadata": {},
   "source": [
    "Write text here"
   ]
  }
 ],
 "metadata": {
  "@webio": {
   "lastCommId": null,
   "lastKernelId": null
  },
  "kernelspec": {
   "display_name": "R",
   "language": "R",
   "name": "ir"
  },
  "language_info": {
   "codemirror_mode": "r",
   "file_extension": ".r",
   "mimetype": "text/x-r-source",
   "name": "R",
   "pygments_lexer": "r",
   "version": "4.0.2"
  },
  "toc": {
   "base_numbering": 1,
   "nav_menu": {},
   "number_sections": true,
   "sideBar": true,
   "skip_h1_title": false,
   "title_cell": "Table of Contents",
   "title_sidebar": "Contents",
   "toc_cell": false,
   "toc_position": {},
   "toc_section_display": true,
   "toc_window_display": false
  },
  "varInspector": {
   "cols": {
    "lenName": 16,
    "lenType": 16,
    "lenVar": 40
   },
   "kernels_config": {
    "python": {
     "delete_cmd_postfix": "",
     "delete_cmd_prefix": "del ",
     "library": "var_list.py",
     "varRefreshCmd": "print(var_dic_list())"
    },
    "r": {
     "delete_cmd_postfix": ") ",
     "delete_cmd_prefix": "rm(",
     "library": "var_list.r",
     "varRefreshCmd": "cat(var_dic_list()) "
    }
   },
   "types_to_exclude": [
    "module",
    "function",
    "builtin_function_or_method",
    "instance",
    "_Feature"
   ],
   "window_display": false
  }
 },
 "nbformat": 4,
 "nbformat_minor": 2
}
