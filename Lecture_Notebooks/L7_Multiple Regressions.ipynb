{
 "cells": [
  {
   "cell_type": "code",
   "execution_count": null,
   "metadata": {},
   "outputs": [],
   "source": [
    "library(foreign)\n",
    "wagedata<- read.dta(\"WAGE1.DTA\")"
   ]
  },
  {
   "cell_type": "code",
   "execution_count": null,
   "metadata": {},
   "outputs": [],
   "source": [
    "#remind correlations between education and experience\n",
    "Reg1 <- lm(lwage~educ, data = wagedata)\n",
    "summary(Reg1)\n",
    "Reg2 <- lm(lwage~educ + exper, data = wagedata)\n",
    "summary(Reg2)"
   ]
  },
  {
   "cell_type": "code",
   "execution_count": null,
   "metadata": {},
   "outputs": [],
   "source": [
    "#predict education using exper\n",
    "#regress education on experience\n",
    "Reg3 <- lm(educ ~ exper, data = wagedata)\n",
    "summary(Reg3)\n",
    "#predict fitted values\n",
    "wagedata[,\"educ_hat\"]<-predict(Reg3,wagedata)\n",
    "wagehat[,c(\"educ\",\"exper\",\"educ_hat\")]\n"
   ]
  },
  {
   "cell_type": "code",
   "execution_count": null,
   "metadata": {},
   "outputs": [],
   "source": [
    "#plot fitted values\n",
    "plot(wagedata[,\"exper\"], wagedata[,\"educ\"])\n",
    "lines(wagedata[,\"exper\"], wagedata[,\"educ_hat\"])"
   ]
  },
  {
   "cell_type": "code",
   "execution_count": null,
   "metadata": {},
   "outputs": [],
   "source": [
    "#predict residuals\n",
    "wagedata[,\"educ_resid\"]<-wagedata[,\"educ\"]-wagedata[,\"educ_hat\"]\n",
    "#plot residuals\n",
    "plot(wagedata[,\"exper\"],wagedata[,\"educ_resid\"])"
   ]
  },
  {
   "cell_type": "code",
   "execution_count": null,
   "metadata": {},
   "outputs": [],
   "source": [
    "#regress log wages on residuals\n",
    "Reg4<-lm(lwage~educ_resid, data = wagedata)\n",
    "summary(Reg4)"
   ]
  },
  {
   "cell_type": "code",
   "execution_count": null,
   "metadata": {},
   "outputs": [],
   "source": []
  }
 ],
 "metadata": {
  "kernelspec": {
   "display_name": "R",
   "language": "R",
   "name": "ir"
  },
  "language_info": {
   "codemirror_mode": "r",
   "file_extension": ".r",
   "mimetype": "text/x-r-source",
   "name": "R",
   "pygments_lexer": "r",
   "version": "3.4.4"
  }
 },
 "nbformat": 4,
 "nbformat_minor": 2
}
