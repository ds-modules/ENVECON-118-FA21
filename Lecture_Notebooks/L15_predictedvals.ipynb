{
 "cells": [
  {
   "cell_type": "code",
   "execution_count": 1,
   "metadata": {},
   "outputs": [
    {
     "data": {
      "text/html": [
       "<table>\n",
       "<caption>A tibble: 6 × 12</caption>\n",
       "<thead>\n",
       "\t<tr><th scope=col>sat</th><th scope=col>tothrs</th><th scope=col>colgpa</th><th scope=col>athlete</th><th scope=col>verbmath</th><th scope=col>hsize</th><th scope=col>hsrank</th><th scope=col>hsperc</th><th scope=col>female</th><th scope=col>white</th><th scope=col>black</th><th scope=col>hsizesq</th></tr>\n",
       "\t<tr><th scope=col>&lt;dbl&gt;</th><th scope=col>&lt;dbl&gt;</th><th scope=col>&lt;dbl&gt;</th><th scope=col>&lt;dbl&gt;</th><th scope=col>&lt;dbl&gt;</th><th scope=col>&lt;dbl&gt;</th><th scope=col>&lt;dbl&gt;</th><th scope=col>&lt;dbl&gt;</th><th scope=col>&lt;dbl&gt;</th><th scope=col>&lt;dbl&gt;</th><th scope=col>&lt;dbl&gt;</th><th scope=col>&lt;dbl&gt;</th></tr>\n",
       "</thead>\n",
       "<tbody>\n",
       "\t<tr><td> 920</td><td> 43</td><td>2.04</td><td>1</td><td>0.48387</td><td>0.10</td><td>  4</td><td>40.00000</td><td>1</td><td>0</td><td>0</td><td> 0.0100</td></tr>\n",
       "\t<tr><td>1170</td><td> 18</td><td>4.00</td><td>0</td><td>0.82813</td><td>9.40</td><td>191</td><td>20.31915</td><td>0</td><td>1</td><td>0</td><td>88.3600</td></tr>\n",
       "\t<tr><td> 810</td><td> 14</td><td>1.78</td><td>1</td><td>0.88372</td><td>1.19</td><td> 42</td><td>35.29412</td><td>0</td><td>1</td><td>0</td><td> 1.4161</td></tr>\n",
       "\t<tr><td> 940</td><td> 40</td><td>2.42</td><td>0</td><td>0.80769</td><td>5.71</td><td>252</td><td>44.13310</td><td>0</td><td>1</td><td>0</td><td>32.6041</td></tr>\n",
       "\t<tr><td>1180</td><td> 18</td><td>2.61</td><td>0</td><td>0.73529</td><td>2.14</td><td> 86</td><td>40.18692</td><td>0</td><td>1</td><td>0</td><td> 4.5796</td></tr>\n",
       "\t<tr><td> 980</td><td>114</td><td>3.03</td><td>0</td><td>0.81481</td><td>2.68</td><td> 41</td><td>15.29851</td><td>1</td><td>1</td><td>0</td><td> 7.1824</td></tr>\n",
       "</tbody>\n",
       "</table>\n"
      ],
      "text/latex": [
       "A tibble: 6 × 12\n",
       "\\begin{tabular}{llllllllllll}\n",
       " sat & tothrs & colgpa & athlete & verbmath & hsize & hsrank & hsperc & female & white & black & hsizesq\\\\\n",
       " <dbl> & <dbl> & <dbl> & <dbl> & <dbl> & <dbl> & <dbl> & <dbl> & <dbl> & <dbl> & <dbl> & <dbl>\\\\\n",
       "\\hline\n",
       "\t  920 &  43 & 2.04 & 1 & 0.48387 & 0.10 &   4 & 40.00000 & 1 & 0 & 0 &  0.0100\\\\\n",
       "\t 1170 &  18 & 4.00 & 0 & 0.82813 & 9.40 & 191 & 20.31915 & 0 & 1 & 0 & 88.3600\\\\\n",
       "\t  810 &  14 & 1.78 & 1 & 0.88372 & 1.19 &  42 & 35.29412 & 0 & 1 & 0 &  1.4161\\\\\n",
       "\t  940 &  40 & 2.42 & 0 & 0.80769 & 5.71 & 252 & 44.13310 & 0 & 1 & 0 & 32.6041\\\\\n",
       "\t 1180 &  18 & 2.61 & 0 & 0.73529 & 2.14 &  86 & 40.18692 & 0 & 1 & 0 &  4.5796\\\\\n",
       "\t  980 & 114 & 3.03 & 0 & 0.81481 & 2.68 &  41 & 15.29851 & 1 & 1 & 0 &  7.1824\\\\\n",
       "\\end{tabular}\n"
      ],
      "text/markdown": [
       "\n",
       "A tibble: 6 × 12\n",
       "\n",
       "| sat &lt;dbl&gt; | tothrs &lt;dbl&gt; | colgpa &lt;dbl&gt; | athlete &lt;dbl&gt; | verbmath &lt;dbl&gt; | hsize &lt;dbl&gt; | hsrank &lt;dbl&gt; | hsperc &lt;dbl&gt; | female &lt;dbl&gt; | white &lt;dbl&gt; | black &lt;dbl&gt; | hsizesq &lt;dbl&gt; |\n",
       "|---|---|---|---|---|---|---|---|---|---|---|---|\n",
       "|  920 |  43 | 2.04 | 1 | 0.48387 | 0.10 |   4 | 40.00000 | 1 | 0 | 0 |  0.0100 |\n",
       "| 1170 |  18 | 4.00 | 0 | 0.82813 | 9.40 | 191 | 20.31915 | 0 | 1 | 0 | 88.3600 |\n",
       "|  810 |  14 | 1.78 | 1 | 0.88372 | 1.19 |  42 | 35.29412 | 0 | 1 | 0 |  1.4161 |\n",
       "|  940 |  40 | 2.42 | 0 | 0.80769 | 5.71 | 252 | 44.13310 | 0 | 1 | 0 | 32.6041 |\n",
       "| 1180 |  18 | 2.61 | 0 | 0.73529 | 2.14 |  86 | 40.18692 | 0 | 1 | 0 |  4.5796 |\n",
       "|  980 | 114 | 3.03 | 0 | 0.81481 | 2.68 |  41 | 15.29851 | 1 | 1 | 0 |  7.1824 |\n",
       "\n"
      ],
      "text/plain": [
       "  sat  tothrs colgpa athlete verbmath hsize hsrank hsperc   female white black\n",
       "1  920  43    2.04   1       0.48387  0.10    4    40.00000 1      0     0    \n",
       "2 1170  18    4.00   0       0.82813  9.40  191    20.31915 0      1     0    \n",
       "3  810  14    1.78   1       0.88372  1.19   42    35.29412 0      1     0    \n",
       "4  940  40    2.42   0       0.80769  5.71  252    44.13310 0      1     0    \n",
       "5 1180  18    2.61   0       0.73529  2.14   86    40.18692 0      1     0    \n",
       "6  980 114    3.03   0       0.81481  2.68   41    15.29851 1      1     0    \n",
       "  hsizesq\n",
       "1  0.0100\n",
       "2 88.3600\n",
       "3  1.4161\n",
       "4 32.6041\n",
       "5  4.5796\n",
       "6  7.1824"
      ]
     },
     "metadata": {},
     "output_type": "display_data"
    }
   ],
   "source": [
    "library(haven)\n",
    "#load gpa dataset \n",
    "gpadata<-read_dta(\"gpa2.dta\")\n",
    "head(gpadata)"
   ]
  },
  {
   "cell_type": "code",
   "execution_count": 2,
   "metadata": {},
   "outputs": [
    {
     "data": {
      "text/plain": [
       "\n",
       "Call:\n",
       "lm(formula = colgpa ~ sat + hsperc + hsize + hsizesq, data = gpadata)\n",
       "\n",
       "Residuals:\n",
       "     Min       1Q   Median       3Q      Max \n",
       "-2.57543 -0.35081  0.03342  0.39945  1.81683 \n",
       "\n",
       "Coefficients:\n",
       "              Estimate Std. Error t value Pr(>|t|)    \n",
       "(Intercept)  1.493e+00  7.534e-02  19.812  < 2e-16 ***\n",
       "sat          1.492e-03  6.521e-05  22.886  < 2e-16 ***\n",
       "hsperc      -1.386e-02  5.610e-04 -24.698  < 2e-16 ***\n",
       "hsize       -6.088e-02  1.650e-02  -3.690 0.000228 ***\n",
       "hsizesq      5.460e-03  2.270e-03   2.406 0.016191 *  \n",
       "---\n",
       "Signif. codes:  0 ‘***’ 0.001 ‘**’ 0.01 ‘*’ 0.05 ‘.’ 0.1 ‘ ’ 1\n",
       "\n",
       "Residual standard error: 0.5599 on 4132 degrees of freedom\n",
       "Multiple R-squared:  0.2781,\tAdjusted R-squared:  0.2774 \n",
       "F-statistic:   398 on 4 and 4132 DF,  p-value: < 2.2e-16\n"
      ]
     },
     "metadata": {},
     "output_type": "display_data"
    }
   ],
   "source": [
    "#regress gpa on sat score, class percentile, and high school class size and class size squared\n",
    "reg7<-lm(colgpa~sat+ hsperc + hsize + hsizesq, data= gpadata)\n",
    "summary(reg7)"
   ]
  },
  {
   "cell_type": "code",
   "execution_count": 3,
   "metadata": {},
   "outputs": [
    {
     "name": "stdout",
     "output_type": "stream",
     "text": [
      "[1] \"predgpa1\"\n"
     ]
    },
    {
     "data": {
      "text/html": [
       "2.6997"
      ],
      "text/latex": [
       "2.6997"
      ],
      "text/markdown": [
       "2.6997"
      ],
      "text/plain": [
       "[1] 2.6997"
      ]
     },
     "metadata": {},
     "output_type": "display_data"
    },
    {
     "data": {
      "text/html": [
       "<table>\n",
       "<caption>A matrix: 5 × 4 of type dbl</caption>\n",
       "<thead>\n",
       "\t<tr><th></th><th scope=col>Estimate</th><th scope=col>Std. Error</th><th scope=col>t value</th><th scope=col>Pr(&gt;|t|)</th></tr>\n",
       "</thead>\n",
       "<tbody>\n",
       "\t<tr><th scope=row>(Intercept)</th><td> 1.492652209</td><td>7.534142e-02</td><td> 19.811840</td><td> 1.585529e-83</td></tr>\n",
       "\t<tr><th scope=row>sat</th><td> 0.001492497</td><td>6.521336e-05</td><td> 22.886370</td><td>3.027519e-109</td></tr>\n",
       "\t<tr><th scope=row>hsperc</th><td>-0.013855782</td><td>5.610052e-04</td><td>-24.698136</td><td>9.760768e-126</td></tr>\n",
       "\t<tr><th scope=row>hsize</th><td>-0.060881453</td><td>1.650123e-02</td><td> -3.689509</td><td> 2.275801e-04</td></tr>\n",
       "\t<tr><th scope=row>hsizesq</th><td> 0.005460295</td><td>2.269848e-03</td><td>  2.405577</td><td> 1.619060e-02</td></tr>\n",
       "</tbody>\n",
       "</table>\n"
      ],
      "text/latex": [
       "A matrix: 5 × 4 of type dbl\n",
       "\\begin{tabular}{r|llll}\n",
       "  & Estimate & Std. Error & t value & Pr(>\\textbar{}t\\textbar{})\\\\\n",
       "\\hline\n",
       "\t(Intercept) &  1.492652209 & 7.534142e-02 &  19.811840 &  1.585529e-83\\\\\n",
       "\tsat &  0.001492497 & 6.521336e-05 &  22.886370 & 3.027519e-109\\\\\n",
       "\thsperc & -0.013855782 & 5.610052e-04 & -24.698136 & 9.760768e-126\\\\\n",
       "\thsize & -0.060881453 & 1.650123e-02 &  -3.689509 &  2.275801e-04\\\\\n",
       "\thsizesq &  0.005460295 & 2.269848e-03 &   2.405577 &  1.619060e-02\\\\\n",
       "\\end{tabular}\n"
      ],
      "text/markdown": [
       "\n",
       "A matrix: 5 × 4 of type dbl\n",
       "\n",
       "| <!--/--> | Estimate | Std. Error | t value | Pr(&gt;|t|) |\n",
       "|---|---|---|---|---|\n",
       "| (Intercept) |  1.492652209 | 7.534142e-02 |  19.811840 |  1.585529e-83 |\n",
       "| sat |  0.001492497 | 6.521336e-05 |  22.886370 | 3.027519e-109 |\n",
       "| hsperc | -0.013855782 | 5.610052e-04 | -24.698136 | 9.760768e-126 |\n",
       "| hsize | -0.060881453 | 1.650123e-02 |  -3.689509 |  2.275801e-04 |\n",
       "| hsizesq |  0.005460295 | 2.269848e-03 |   2.405577 |  1.619060e-02 |\n",
       "\n"
      ],
      "text/plain": [
       "            Estimate     Std. Error   t value    Pr(>|t|)     \n",
       "(Intercept)  1.492652209 7.534142e-02  19.811840  1.585529e-83\n",
       "sat          0.001492497 6.521336e-05  22.886370 3.027519e-109\n",
       "hsperc      -0.013855782 5.610052e-04 -24.698136 9.760768e-126\n",
       "hsize       -0.060881453 1.650123e-02  -3.689509  2.275801e-04\n",
       "hsizesq      0.005460295 2.269848e-03   2.405577  1.619060e-02"
      ]
     },
     "metadata": {},
     "output_type": "display_data"
    },
    {
     "name": "stdout",
     "output_type": "stream",
     "text": [
      "[1] \"predgpa2\"\n"
     ]
    },
    {
     "data": {
      "text/html": [
       "2.70007548288901"
      ],
      "text/latex": [
       "2.70007548288901"
      ],
      "text/markdown": [
       "2.70007548288901"
      ],
      "text/plain": [
       "[1] 2.700075"
      ]
     },
     "metadata": {},
     "output_type": "display_data"
    }
   ],
   "source": [
    "#predict values\n",
    "predgpa1 = 1.493 + 1200*.001492 -.01386*30 -.06088*5+.00546*25\n",
    "#print\n",
    "print(\"predgpa1\")\n",
    "predgpa1\n",
    "#or, extract.  Summary stores beta coefficients in the term \"coef\"\n",
    "summary(reg7)$coef\n",
    "predgpa2 = sum(c(1,1200,30,5,25)*summary(reg7)$coef[,1])\n",
    "#print\n",
    "print(\"predgpa2\")\n",
    "predgpa2"
   ]
  },
  {
   "cell_type": "code",
   "execution_count": 4,
   "metadata": {},
   "outputs": [
    {
     "data": {
      "text/plain": [
       "\n",
       "Call:\n",
       "lm(formula = colgpa ~ sat0 + hsperc0 + hsize0 + hsizesq0, data = gpadata)\n",
       "\n",
       "Residuals:\n",
       "     Min       1Q   Median       3Q      Max \n",
       "-2.57543 -0.35081  0.03342  0.39945  1.81683 \n",
       "\n",
       "Coefficients:\n",
       "              Estimate Std. Error t value Pr(>|t|)    \n",
       "(Intercept)  2.700e+00  1.988e-02 135.833  < 2e-16 ***\n",
       "sat0         1.492e-03  6.521e-05  22.886  < 2e-16 ***\n",
       "hsperc0     -1.386e-02  5.610e-04 -24.698  < 2e-16 ***\n",
       "hsize0      -6.088e-02  1.650e-02  -3.690 0.000228 ***\n",
       "hsizesq0     5.460e-03  2.270e-03   2.406 0.016191 *  \n",
       "---\n",
       "Signif. codes:  0 ‘***’ 0.001 ‘**’ 0.01 ‘*’ 0.05 ‘.’ 0.1 ‘ ’ 1\n",
       "\n",
       "Residual standard error: 0.5599 on 4132 degrees of freedom\n",
       "Multiple R-squared:  0.2781,\tAdjusted R-squared:  0.2774 \n",
       "F-statistic:   398 on 4 and 4132 DF,  p-value: < 2.2e-16\n"
      ]
     },
     "metadata": {},
     "output_type": "display_data"
    }
   ],
   "source": [
    "#transform data to get CI\n",
    "gpadata$sat0<- gpadata$sat-1200\n",
    "gpadata$hsperc0 <-gpadata$hsperc-30\n",
    "gpadata$hsize0<-gpadata$hsize-5\n",
    "gpadata$hsizesq0<-gpadata$hsizesq-25\n",
    "\n",
    "reg8<-lm(colgpa~sat0+hsperc0 + hsize0 + hsizesq0, data = gpadata)\n",
    "summary(reg8)"
   ]
  },
  {
   "cell_type": "code",
   "execution_count": null,
   "metadata": {},
   "outputs": [],
   "source": [
    "    "
   ]
  }
 ],
 "metadata": {
  "kernelspec": {
   "display_name": "R",
   "language": "R",
   "name": "ir"
  },
  "language_info": {
   "codemirror_mode": "r",
   "file_extension": ".r",
   "mimetype": "text/x-r-source",
   "name": "R",
   "pygments_lexer": "r",
   "version": "4.0.2"
  }
 },
 "nbformat": 4,
 "nbformat_minor": 2
}
