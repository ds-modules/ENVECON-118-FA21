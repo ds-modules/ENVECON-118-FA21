{
 "cells": [
  {
   "cell_type": "code",
   "execution_count": 2,
   "metadata": {},
   "outputs": [
    {
     "name": "stderr",
     "output_type": "stream",
     "text": [
      "── \u001b[1mAttaching packages\u001b[22m ─────────────────────────────────────── tidyverse 1.3.0 ──\n",
      "\n",
      "\u001b[32m✔\u001b[39m \u001b[34mggplot2\u001b[39m 3.3.2     \u001b[32m✔\u001b[39m \u001b[34mpurrr  \u001b[39m 0.3.4\n",
      "\u001b[32m✔\u001b[39m \u001b[34mtibble \u001b[39m 3.0.4     \u001b[32m✔\u001b[39m \u001b[34mdplyr  \u001b[39m 1.0.2\n",
      "\u001b[32m✔\u001b[39m \u001b[34mtidyr  \u001b[39m 1.1.2     \u001b[32m✔\u001b[39m \u001b[34mstringr\u001b[39m 1.4.0\n",
      "\u001b[32m✔\u001b[39m \u001b[34mreadr  \u001b[39m 1.4.0     \u001b[32m✔\u001b[39m \u001b[34mforcats\u001b[39m 0.5.0\n",
      "\n",
      "── \u001b[1mConflicts\u001b[22m ────────────────────────────────────────── tidyverse_conflicts() ──\n",
      "\u001b[31m✖\u001b[39m \u001b[34mdplyr\u001b[39m::\u001b[32mfilter()\u001b[39m masks \u001b[34mstats\u001b[39m::filter()\n",
      "\u001b[31m✖\u001b[39m \u001b[34mdplyr\u001b[39m::\u001b[32mlag()\u001b[39m    masks \u001b[34mstats\u001b[39m::lag()\n",
      "\n"
     ]
    },
    {
     "data": {
      "text/html": [
       "<table>\n",
       "<caption>A tibble: 6 × 9</caption>\n",
       "<thead>\n",
       "\t<tr><th scope=col>pop</th><th scope=col>crimes</th><th scope=col>unem</th><th scope=col>officers</th><th scope=col>west</th><th scope=col>nrtheast</th><th scope=col>south</th><th scope=col>year</th><th scope=col>city</th></tr>\n",
       "\t<tr><th scope=col>&lt;dbl&gt;</th><th scope=col>&lt;dbl&gt;</th><th scope=col>&lt;dbl&gt;</th><th scope=col>&lt;dbl&gt;</th><th scope=col>&lt;dbl&gt;</th><th scope=col>&lt;dbl&gt;</th><th scope=col>&lt;dbl&gt;</th><th scope=col>&lt;dbl&gt;</th><th scope=col>&lt;dbl&gt;</th></tr>\n",
       "</thead>\n",
       "<tbody>\n",
       "\t<tr><td>229528</td><td>17136</td><td>8.2</td><td> 326</td><td>1</td><td>0</td><td>0</td><td>82</td><td>1</td></tr>\n",
       "\t<tr><td>246815</td><td>17306</td><td>3.7</td><td> 321</td><td>1</td><td>0</td><td>0</td><td>87</td><td>1</td></tr>\n",
       "\t<tr><td>814054</td><td>75654</td><td>8.1</td><td>1621</td><td>1</td><td>0</td><td>0</td><td>82</td><td>2</td></tr>\n",
       "\t<tr><td>933177</td><td>83960</td><td>5.4</td><td>1803</td><td>1</td><td>0</td><td>0</td><td>87</td><td>2</td></tr>\n",
       "\t<tr><td>374974</td><td>31352</td><td>9.0</td><td> 633</td><td>1</td><td>0</td><td>0</td><td>82</td><td>3</td></tr>\n",
       "\t<tr><td>406297</td><td>31364</td><td>5.9</td><td> 685</td><td>1</td><td>0</td><td>0</td><td>87</td><td>3</td></tr>\n",
       "</tbody>\n",
       "</table>\n"
      ],
      "text/latex": [
       "A tibble: 6 × 9\n",
       "\\begin{tabular}{lllllllll}\n",
       " pop & crimes & unem & officers & west & nrtheast & south & year & city\\\\\n",
       " <dbl> & <dbl> & <dbl> & <dbl> & <dbl> & <dbl> & <dbl> & <dbl> & <dbl>\\\\\n",
       "\\hline\n",
       "\t 229528 & 17136 & 8.2 &  326 & 1 & 0 & 0 & 82 & 1\\\\\n",
       "\t 246815 & 17306 & 3.7 &  321 & 1 & 0 & 0 & 87 & 1\\\\\n",
       "\t 814054 & 75654 & 8.1 & 1621 & 1 & 0 & 0 & 82 & 2\\\\\n",
       "\t 933177 & 83960 & 5.4 & 1803 & 1 & 0 & 0 & 87 & 2\\\\\n",
       "\t 374974 & 31352 & 9.0 &  633 & 1 & 0 & 0 & 82 & 3\\\\\n",
       "\t 406297 & 31364 & 5.9 &  685 & 1 & 0 & 0 & 87 & 3\\\\\n",
       "\\end{tabular}\n"
      ],
      "text/markdown": [
       "\n",
       "A tibble: 6 × 9\n",
       "\n",
       "| pop &lt;dbl&gt; | crimes &lt;dbl&gt; | unem &lt;dbl&gt; | officers &lt;dbl&gt; | west &lt;dbl&gt; | nrtheast &lt;dbl&gt; | south &lt;dbl&gt; | year &lt;dbl&gt; | city &lt;dbl&gt; |\n",
       "|---|---|---|---|---|---|---|---|---|\n",
       "| 229528 | 17136 | 8.2 |  326 | 1 | 0 | 0 | 82 | 1 |\n",
       "| 246815 | 17306 | 3.7 |  321 | 1 | 0 | 0 | 87 | 1 |\n",
       "| 814054 | 75654 | 8.1 | 1621 | 1 | 0 | 0 | 82 | 2 |\n",
       "| 933177 | 83960 | 5.4 | 1803 | 1 | 0 | 0 | 87 | 2 |\n",
       "| 374974 | 31352 | 9.0 |  633 | 1 | 0 | 0 | 82 | 3 |\n",
       "| 406297 | 31364 | 5.9 |  685 | 1 | 0 | 0 | 87 | 3 |\n",
       "\n"
      ],
      "text/plain": [
       "  pop    crimes unem officers west nrtheast south year city\n",
       "1 229528 17136  8.2   326     1    0        0     82   1   \n",
       "2 246815 17306  3.7   321     1    0        0     87   1   \n",
       "3 814054 75654  8.1  1621     1    0        0     82   2   \n",
       "4 933177 83960  5.4  1803     1    0        0     87   2   \n",
       "5 374974 31352  9.0   633     1    0        0     82   3   \n",
       "6 406297 31364  5.9   685     1    0        0     87   3   "
      ]
     },
     "metadata": {},
     "output_type": "display_data"
    }
   ],
   "source": [
    "library(haven)\n",
    "library(tidyverse)\n",
    "crimedata<- read_dta(\"crime2_forlecture.dta\")\n",
    "head(crimedata)"
   ]
  },
  {
   "cell_type": "code",
   "execution_count": 8,
   "metadata": {},
   "outputs": [
    {
     "data": {
      "text/plain": [
       "\n",
       "Call:\n",
       "lm(formula = crimes ~ unem, data = crimedata, subset = year == \n",
       "    82)\n",
       "\n",
       "Residuals:\n",
       "   Min     1Q Median     3Q    Max \n",
       "-42230 -16949  -7950  11062  94999 \n",
       "\n",
       "Coefficients:\n",
       "            Estimate Std. Error t value Pr(>|t|)\n",
       "(Intercept)    18653      12466   1.496    0.142\n",
       "unem            1936       1174   1.649    0.106\n",
       "\n",
       "Residual standard error: 27150 on 44 degrees of freedom\n",
       "Multiple R-squared:  0.05821,\tAdjusted R-squared:  0.03681 \n",
       "F-statistic:  2.72 on 1 and 44 DF,  p-value: 0.1062\n"
      ]
     },
     "metadata": {},
     "output_type": "display_data"
    },
    {
     "data": {
      "text/html": [
       "39663.5326086957"
      ],
      "text/latex": [
       "39663.5326086957"
      ],
      "text/markdown": [
       "39663.5326086957"
      ],
      "text/plain": [
       "[1] 39663.53"
      ]
     },
     "metadata": {},
     "output_type": "display_data"
    }
   ],
   "source": [
    "reg1<- lm(crimes~unem, data = crimedata, subset = year==82)\n",
    "summary(reg1)\n",
    "mean(crimedata$crimes)"
   ]
  },
  {
   "cell_type": "code",
   "execution_count": null,
   "metadata": {},
   "outputs": [],
   "source": [
    "#one way to create a wide dataset: first, create 2 data sets, one for each year\n",
    "crimedata82 = subset(crimedata, year == 82)\n",
    "crimedata87 = subset(crimedata, year == 87)\n",
    "#merge data on city id\n",
    "crimedatawide = merge(crimedata82, crimedata87, by = c(\"city\"), suffixes = c(\".82\",\".87\"))\n",
    "head(crimedatawide)"
   ]
  },
  {
   "cell_type": "code",
   "execution_count": null,
   "metadata": {},
   "outputs": [],
   "source": [
    "#generate new variables\n",
    "crimedatawide$dcrime<-crimedatawide$crimes.87-crimedatawide$crimes.82\n",
    "crimedatawide$dunem<-crimedatawide$unem.87-crimedatawide$unem.82\n",
    "\n",
    "#run differenced regression\n",
    "reg2<-lm(dcrime~dunem, data = crimedatawide)\n",
    "summary(reg2)"
   ]
  },
  {
   "cell_type": "code",
   "execution_count": null,
   "metadata": {},
   "outputs": [],
   "source": [
    "crimedata$city<-as.factor(crimedata$city)\n",
    "crimedata$y87<-crimedata$year==87\n",
    "#run regression with city dummies\n",
    "reg3<-lm(crimes~unem + city + y87 , data = crimedata)\n",
    "summary(reg3)"
   ]
  },
  {
   "cell_type": "code",
   "execution_count": 3,
   "metadata": {},
   "outputs": [
    {
     "data": {
      "text/html": [
       "<table>\n",
       "<caption>A tibble: 6 × 13</caption>\n",
       "<thead>\n",
       "\t<tr><th scope=col>state</th><th scope=col>admn90</th><th scope=col>admn85</th><th scope=col>open90</th><th scope=col>open85</th><th scope=col>dthrte90</th><th scope=col>dthrte85</th><th scope=col>speed90</th><th scope=col>speed85</th><th scope=col>cdthrte</th><th scope=col>cadmn</th><th scope=col>copen</th><th scope=col>cspeed</th></tr>\n",
       "\t<tr><th scope=col>&lt;chr&gt;</th><th scope=col>&lt;dbl&gt;</th><th scope=col>&lt;dbl&gt;</th><th scope=col>&lt;dbl&gt;</th><th scope=col>&lt;dbl&gt;</th><th scope=col>&lt;dbl&gt;</th><th scope=col>&lt;dbl&gt;</th><th scope=col>&lt;dbl&gt;</th><th scope=col>&lt;dbl&gt;</th><th scope=col>&lt;dbl&gt;</th><th scope=col>&lt;dbl&gt;</th><th scope=col>&lt;dbl&gt;</th><th scope=col>&lt;dbl&gt;</th></tr>\n",
       "</thead>\n",
       "<tbody>\n",
       "\t<tr><td>AL</td><td>0</td><td>0</td><td>0</td><td>0</td><td>2.6</td><td>2.9</td><td>1</td><td>0</td><td>-0.3000002</td><td>0</td><td>0</td><td>1</td></tr>\n",
       "\t<tr><td>AK</td><td>1</td><td>1</td><td>1</td><td>0</td><td>2.1</td><td>3.2</td><td>0</td><td>0</td><td>-1.1000001</td><td>0</td><td>1</td><td>0</td></tr>\n",
       "\t<tr><td>AZ</td><td>1</td><td>0</td><td>0</td><td>0</td><td>2.5</td><td>4.4</td><td>1</td><td>0</td><td>-1.9000001</td><td>1</td><td>0</td><td>1</td></tr>\n",
       "\t<tr><td>AR</td><td>0</td><td>0</td><td>0</td><td>0</td><td>2.9</td><td>3.4</td><td>1</td><td>0</td><td>-0.5000000</td><td>0</td><td>0</td><td>1</td></tr>\n",
       "\t<tr><td>CA</td><td>1</td><td>0</td><td>1</td><td>1</td><td>2.0</td><td>2.6</td><td>1</td><td>0</td><td>-0.5999999</td><td>1</td><td>0</td><td>1</td></tr>\n",
       "\t<tr><td>CO</td><td>1</td><td>1</td><td>0</td><td>0</td><td>1.9</td><td>2.4</td><td>1</td><td>0</td><td>-0.5000001</td><td>0</td><td>0</td><td>1</td></tr>\n",
       "</tbody>\n",
       "</table>\n"
      ],
      "text/latex": [
       "A tibble: 6 × 13\n",
       "\\begin{tabular}{lllllllllllll}\n",
       " state & admn90 & admn85 & open90 & open85 & dthrte90 & dthrte85 & speed90 & speed85 & cdthrte & cadmn & copen & cspeed\\\\\n",
       " <chr> & <dbl> & <dbl> & <dbl> & <dbl> & <dbl> & <dbl> & <dbl> & <dbl> & <dbl> & <dbl> & <dbl> & <dbl>\\\\\n",
       "\\hline\n",
       "\t AL & 0 & 0 & 0 & 0 & 2.6 & 2.9 & 1 & 0 & -0.3000002 & 0 & 0 & 1\\\\\n",
       "\t AK & 1 & 1 & 1 & 0 & 2.1 & 3.2 & 0 & 0 & -1.1000001 & 0 & 1 & 0\\\\\n",
       "\t AZ & 1 & 0 & 0 & 0 & 2.5 & 4.4 & 1 & 0 & -1.9000001 & 1 & 0 & 1\\\\\n",
       "\t AR & 0 & 0 & 0 & 0 & 2.9 & 3.4 & 1 & 0 & -0.5000000 & 0 & 0 & 1\\\\\n",
       "\t CA & 1 & 0 & 1 & 1 & 2.0 & 2.6 & 1 & 0 & -0.5999999 & 1 & 0 & 1\\\\\n",
       "\t CO & 1 & 1 & 0 & 0 & 1.9 & 2.4 & 1 & 0 & -0.5000001 & 0 & 0 & 1\\\\\n",
       "\\end{tabular}\n"
      ],
      "text/markdown": [
       "\n",
       "A tibble: 6 × 13\n",
       "\n",
       "| state &lt;chr&gt; | admn90 &lt;dbl&gt; | admn85 &lt;dbl&gt; | open90 &lt;dbl&gt; | open85 &lt;dbl&gt; | dthrte90 &lt;dbl&gt; | dthrte85 &lt;dbl&gt; | speed90 &lt;dbl&gt; | speed85 &lt;dbl&gt; | cdthrte &lt;dbl&gt; | cadmn &lt;dbl&gt; | copen &lt;dbl&gt; | cspeed &lt;dbl&gt; |\n",
       "|---|---|---|---|---|---|---|---|---|---|---|---|---|\n",
       "| AL | 0 | 0 | 0 | 0 | 2.6 | 2.9 | 1 | 0 | -0.3000002 | 0 | 0 | 1 |\n",
       "| AK | 1 | 1 | 1 | 0 | 2.1 | 3.2 | 0 | 0 | -1.1000001 | 0 | 1 | 0 |\n",
       "| AZ | 1 | 0 | 0 | 0 | 2.5 | 4.4 | 1 | 0 | -1.9000001 | 1 | 0 | 1 |\n",
       "| AR | 0 | 0 | 0 | 0 | 2.9 | 3.4 | 1 | 0 | -0.5000000 | 0 | 0 | 1 |\n",
       "| CA | 1 | 0 | 1 | 1 | 2.0 | 2.6 | 1 | 0 | -0.5999999 | 1 | 0 | 1 |\n",
       "| CO | 1 | 1 | 0 | 0 | 1.9 | 2.4 | 1 | 0 | -0.5000001 | 0 | 0 | 1 |\n",
       "\n"
      ],
      "text/plain": [
       "  state admn90 admn85 open90 open85 dthrte90 dthrte85 speed90 speed85\n",
       "1 AL    0      0      0      0      2.6      2.9      1       0      \n",
       "2 AK    1      1      1      0      2.1      3.2      0       0      \n",
       "3 AZ    1      0      0      0      2.5      4.4      1       0      \n",
       "4 AR    0      0      0      0      2.9      3.4      1       0      \n",
       "5 CA    1      0      1      1      2.0      2.6      1       0      \n",
       "6 CO    1      1      0      0      1.9      2.4      1       0      \n",
       "  cdthrte    cadmn copen cspeed\n",
       "1 -0.3000002 0     0     1     \n",
       "2 -1.1000001 0     1     0     \n",
       "3 -1.9000001 1     0     1     \n",
       "4 -0.5000000 0     0     1     \n",
       "5 -0.5999999 1     0     1     \n",
       "6 -0.5000001 0     0     1     "
      ]
     },
     "metadata": {},
     "output_type": "display_data"
    }
   ],
   "source": [
    "trafficdata<-read_dta(\"TRAFFIC1.DTA\")\n",
    "head(trafficdata)"
   ]
  },
  {
   "cell_type": "code",
   "execution_count": 3,
   "metadata": {},
   "outputs": [
    {
     "name": "stdout",
     "output_type": "stream",
     "text": [
      "[1] \"states with open container laws in 1990\"\n"
     ]
    },
    {
     "data": {
      "text/html": [
       "22"
      ],
      "text/latex": [
       "22"
      ],
      "text/markdown": [
       "22"
      ],
      "text/plain": [
       "[1] 22"
      ]
     },
     "metadata": {},
     "output_type": "display_data"
    },
    {
     "name": "stdout",
     "output_type": "stream",
     "text": [
      "[1] \"states with open container laws in 1985\"\n"
     ]
    },
    {
     "data": {
      "text/html": [
       "19"
      ],
      "text/latex": [
       "19"
      ],
      "text/markdown": [
       "19"
      ],
      "text/plain": [
       "[1] 19"
      ]
     },
     "metadata": {},
     "output_type": "display_data"
    },
    {
     "name": "stdout",
     "output_type": "stream",
     "text": [
      "[1] \"states with admin per se laws in 1990\"\n"
     ]
    },
    {
     "data": {
      "text/html": [
       "29"
      ],
      "text/latex": [
       "29"
      ],
      "text/markdown": [
       "29"
      ],
      "text/plain": [
       "[1] 29"
      ]
     },
     "metadata": {},
     "output_type": "display_data"
    },
    {
     "name": "stdout",
     "output_type": "stream",
     "text": [
      "[1] \"states with admin per se laws in 1985\"\n"
     ]
    },
    {
     "data": {
      "text/html": [
       "21"
      ],
      "text/latex": [
       "21"
      ],
      "text/markdown": [
       "21"
      ],
      "text/plain": [
       "[1] 21"
      ]
     },
     "metadata": {},
     "output_type": "display_data"
    }
   ],
   "source": [
    "#describe law changes\n",
    "print(\"states with open container laws in 1990\")\n",
    "sum(trafficdata$open90)\n",
    "print(\"states with open container laws in 1985\")\n",
    "sum(trafficdata$open85)\n",
    "print(\"states with admin per se laws in 1990\")\n",
    "sum(trafficdata$admn90)\n",
    "print(\"states with admin per se laws in 1985\")\n",
    "sum(trafficdata$admn85)\n",
    "\n"
   ]
  },
  {
   "cell_type": "code",
   "execution_count": 20,
   "metadata": {},
   "outputs": [
    {
     "name": "stderr",
     "output_type": "stream",
     "text": [
      "`summarise()` ungrouping output (override with `.groups` argument)\n",
      "\n"
     ]
    },
    {
     "ename": "ERROR",
     "evalue": "Error: Problem with `summarise()` input `meandth2`.\n\u001b[31m✖\u001b[39m object 'dthrte85' not found\n\u001b[34mℹ\u001b[39m Input `meandth2` is `mean(dthrte85)`.\n",
     "output_type": "error",
     "traceback": [
      "Error: Problem with `summarise()` input `meandth2`.\n\u001b[31m✖\u001b[39m object 'dthrte85' not found\n\u001b[34mℹ\u001b[39m Input `meandth2` is `mean(dthrte85)`.\nTraceback:\n",
      "1. trafficdata %>% group_by(change_open) %>% summarize(meandth = mean(dthrte90)) %>% \n .     summarize(meandth2 = mean(dthrte85))",
      "2. withVisible(eval(quote(`_fseq`(`_lhs`)), env, env))",
      "3. eval(quote(`_fseq`(`_lhs`)), env, env)",
      "4. eval(quote(`_fseq`(`_lhs`)), env, env)",
      "5. `_fseq`(`_lhs`)",
      "6. freduce(value, `_function_list`)",
      "7. withVisible(function_list[[k]](value))",
      "8. function_list[[k]](value)",
      "9. summarize(., meandth2 = mean(dthrte85))",
      "10. summarise.data.frame(., meandth2 = mean(dthrte85))",
      "11. summarise_cols(.data, ...)",
      "12. withCallingHandlers({\n  .     for (i in seq_along(dots)) {\n  .         quo <- dots[[i]]\n  .         chunks[[i]] <- mask$eval_all_summarise(quo)\n  .         mask$across_cache_reset()\n  .         result_type <- types[[i]] <- withCallingHandlers(vec_ptype_common(!!!chunks[[i]]), \n  .             vctrs_error_incompatible_type = function(cnd) {\n  .                 abort(class = \"dplyr:::error_summarise_incompatible_combine\", \n  .                   parent = cnd)\n  .             })\n  .         if ((is.null(dots_names) || dots_names[i] == \"\") && is.data.frame(result_type)) {\n  .             map2(seq_along(result_type), names(result_type), \n  .                 function(j, nm) {\n  .                   mask$add(nm, pluck(chunks[[i]], j))\n  .                 })\n  .         }\n  .         else {\n  .             mask$add(auto_named_dots[i], chunks[[i]])\n  .         }\n  .     }\n  .     recycle_info <- .Call(dplyr_summarise_recycle_chunks, chunks, \n  .         mask$get_rows(), types)\n  .     chunks <- recycle_info$chunks\n  .     sizes <- recycle_info$sizes\n  .     for (i in seq_along(dots)) {\n  .         result <- vec_c(!!!chunks[[i]], .ptype = types[[i]])\n  .         if ((is.null(dots_names) || dots_names[i] == \"\") && is.data.frame(result)) {\n  .             cols[names(result)] <- result\n  .         }\n  .         else {\n  .             cols[[auto_named_dots[i]]] <- result\n  .         }\n  .     }\n  . }, error = function(e) {\n  .     local_call_step(dots = dots, .index = i, .fn = \"summarise\", \n  .         .dot_data = inherits(e, \"rlang_error_data_pronoun_not_found\"))\n  .     call_step <- peek_call_step()\n  .     error_name <- call_step$error_name\n  .     if (inherits(e, \"dplyr:::error_summarise_incompatible_combine\")) {\n  .         bullets <- c(x = glue(\"Input `{error_name}` must return compatible vectors across groups\", \n  .             .envir = peek_call_step()), i = cnd_bullet_combine_details(e$parent$x, \n  .             e$parent$x_arg), i = cnd_bullet_combine_details(e$parent$y, \n  .             e$parent$y_arg))\n  .     }\n  .     else if (inherits(e, \"dplyr:::summarise_unsupported_type\")) {\n  .         bullets <- c(x = glue(\"Input `{error_name}` must be a vector, not {friendly_type_of(result)}.\", \n  .             result = e$result), i = cnd_bullet_rowwise_unlist())\n  .     }\n  .     else if (inherits(e, \"dplyr:::summarise_incompatible_size\")) {\n  .         peek_mask()$set_current_group(e$group)\n  .         bullets <- c(x = glue(\"Input `{error_name}` must be size {or_1(expected_size)}, not {size}.\", \n  .             expected_size = e$expected_size, size = e$size), \n  .             i = glue(\"An earlier column had size {expected_size}.\", \n  .                 expected_size = e$expected_size))\n  .     }\n  .     else {\n  .         bullets <- c(x = conditionMessage(e))\n  .     }\n  .     bullets <- c(cnd_bullet_header(), bullets, i = cnd_bullet_input_info())\n  .     if (!inherits(e, \"dplyr:::error_summarise_incompatible_combine\")) {\n  .         bullets <- c(bullets, i = cnd_bullet_cur_group_label())\n  .     }\n  .     abort(bullets, class = \"dplyr_error\")\n  . })",
      "13. mask$eval_all_summarise(quo)",
      "14. mean(dthrte85)",
      "15. .handleSimpleError(function (e) \n  . {\n  .     local_call_step(dots = dots, .index = i, .fn = \"summarise\", \n  .         .dot_data = inherits(e, \"rlang_error_data_pronoun_not_found\"))\n  .     call_step <- peek_call_step()\n  .     error_name <- call_step$error_name\n  .     if (inherits(e, \"dplyr:::error_summarise_incompatible_combine\")) {\n  .         bullets <- c(x = glue(\"Input `{error_name}` must return compatible vectors across groups\", \n  .             .envir = peek_call_step()), i = cnd_bullet_combine_details(e$parent$x, \n  .             e$parent$x_arg), i = cnd_bullet_combine_details(e$parent$y, \n  .             e$parent$y_arg))\n  .     }\n  .     else if (inherits(e, \"dplyr:::summarise_unsupported_type\")) {\n  .         bullets <- c(x = glue(\"Input `{error_name}` must be a vector, not {friendly_type_of(result)}.\", \n  .             result = e$result), i = cnd_bullet_rowwise_unlist())\n  .     }\n  .     else if (inherits(e, \"dplyr:::summarise_incompatible_size\")) {\n  .         peek_mask()$set_current_group(e$group)\n  .         bullets <- c(x = glue(\"Input `{error_name}` must be size {or_1(expected_size)}, not {size}.\", \n  .             expected_size = e$expected_size, size = e$size), \n  .             i = glue(\"An earlier column had size {expected_size}.\", \n  .                 expected_size = e$expected_size))\n  .     }\n  .     else {\n  .         bullets <- c(x = conditionMessage(e))\n  .     }\n  .     bullets <- c(cnd_bullet_header(), bullets, i = cnd_bullet_input_info())\n  .     if (!inherits(e, \"dplyr:::error_summarise_incompatible_combine\")) {\n  .         bullets <- c(bullets, i = cnd_bullet_cur_group_label())\n  .     }\n  .     abort(bullets, class = \"dplyr_error\")\n  . }, \"object 'dthrte85' not found\", base::quote(mean(dthrte85)))",
      "16. h(simpleError(msg, call))",
      "17. abort(bullets, class = \"dplyr_error\")",
      "18. signal_abort(cnd)"
     ]
    }
   ],
   "source": [
    "#difference-in-difference\n",
    "trafficdata$change_open = trafficdata$open90-trafficdata$open85\n",
    "trafficdata$change_death = trafficdata$dthrte90-trafficdata$dthrte85\n",
    "\n",
    "#mean comparison\n",
    "trafficdata %>%\n",
    "    group_by(change_open) %>%\n",
    "    summarize(meandth=mean(dthrte90))\n",
    "\n",
    "A<-    mean(subset())\n",
    "    \n",
    "    \n",
    "#or, via regression\n",
    "reg3<-lm(change_death~change_open, data = trafficdata)\n",
    "summary(reg3)\n",
    "\n"
   ]
  },
  {
   "cell_type": "code",
   "execution_count": 11,
   "metadata": {},
   "outputs": [
    {
     "name": "stderr",
     "output_type": "stream",
     "text": [
      "Warning message:\n",
      "“Unknown or uninitialised column: `change_death`.”\n"
     ]
    },
    {
     "data": {
      "text/plain": [
       "< table of extent 0 >"
      ]
     },
     "metadata": {},
     "output_type": "display_data"
    }
   ],
   "source": []
  },
  {
   "cell_type": "code",
   "execution_count": 5,
   "metadata": {},
   "outputs": [
    {
     "data": {
      "text/plain": [
       "\n",
       "Call:\n",
       "lm(formula = change_death ~ change_open + change_admn, data = trafficdata)\n",
       "\n",
       "Residuals:\n",
       "     Min       1Q   Median       3Q      Max \n",
       "-1.25261 -0.14337 -0.00321  0.19679  0.79679 \n",
       "\n",
       "Coefficients:\n",
       "            Estimate Std. Error t value Pr(>|t|)    \n",
       "(Intercept) -0.49679    0.05243  -9.476 1.43e-12 ***\n",
       "change_open -0.41968    0.20559  -2.041   0.0467 *  \n",
       "change_admn -0.15060    0.11682  -1.289   0.2035    \n",
       "---\n",
       "Signif. codes:  0 ‘***’ 0.001 ‘**’ 0.01 ‘*’ 0.05 ‘.’ 0.1 ‘ ’ 1\n",
       "\n",
       "Residual standard error: 0.3435 on 48 degrees of freedom\n",
       "Multiple R-squared:  0.1187,\tAdjusted R-squared:  0.08194 \n",
       "F-statistic: 3.231 on 2 and 48 DF,  p-value: 0.04824\n"
      ]
     },
     "metadata": {},
     "output_type": "display_data"
    }
   ],
   "source": [
    "#generate change in admin per se laws\n",
    "trafficdata$change_admn <-trafficdata$admn90-trafficdata$admn85\n",
    "reg4<-lm(change_death~change_open + change_admn, data = trafficdata)\n",
    "summary(reg4)"
   ]
  },
  {
   "cell_type": "code",
   "execution_count": 6,
   "metadata": {},
   "outputs": [
    {
     "data": {
      "text/html": [
       "<style>\n",
       ".list-inline {list-style: none; margin:0; padding: 0}\n",
       ".list-inline>li {display: inline-block}\n",
       ".list-inline>li:not(:last-child)::after {content: \"\\00b7\"; padding: 0 .5ex}\n",
       "</style>\n",
       "<ol class=list-inline><li>'AK'</li><li>'FL'</li><li>'NM'</li></ol>\n"
      ],
      "text/latex": [
       "\\begin{enumerate*}\n",
       "\\item 'AK'\n",
       "\\item 'FL'\n",
       "\\item 'NM'\n",
       "\\end{enumerate*}\n"
      ],
      "text/markdown": [
       "1. 'AK'\n",
       "2. 'FL'\n",
       "3. 'NM'\n",
       "\n",
       "\n"
      ],
      "text/plain": [
       "[1] \"AK\" \"FL\" \"NM\""
      ]
     },
     "metadata": {},
     "output_type": "display_data"
    }
   ],
   "source": [
    "subset(trafficdata$state, trafficdata$change_open ==1)\n"
   ]
  },
  {
   "cell_type": "code",
   "execution_count": 24,
   "metadata": {},
   "outputs": [
    {
     "data": {
      "text/html": [
       "<table>\n",
       "<caption>A matrix: 2 × 1 of type dbl</caption>\n",
       "<tbody>\n",
       "\t<tr><th scope=row>A</th><td>3.60000</td></tr>\n",
       "\t<tr><th scope=row>B</th><td>2.64375</td></tr>\n",
       "</tbody>\n",
       "</table>\n"
      ],
      "text/latex": [
       "A matrix: 2 × 1 of type dbl\n",
       "\\begin{tabular}{r|l}\n",
       "\tA & 3.60000\\\\\n",
       "\tB & 2.64375\\\\\n",
       "\\end{tabular}\n"
      ],
      "text/markdown": [
       "\n",
       "A matrix: 2 × 1 of type dbl\n",
       "\n",
       "| A | 3.60000 |\n",
       "| B | 2.64375 |\n",
       "\n"
      ],
      "text/plain": [
       "  [,1]   \n",
       "A 3.60000\n",
       "B 2.64375"
      ]
     },
     "metadata": {},
     "output_type": "display_data"
    }
   ],
   "source": [
    "A<- mean(subset(trafficdata$dthrte85, trafficdata$change_open==1))\n",
    "B<-mean(subset(trafficdata$dthrte85, trafficdata$change_open==0))\n",
    "rbind(A,B)"
   ]
  },
  {
   "cell_type": "code",
   "execution_count": null,
   "metadata": {},
   "outputs": [],
   "source": []
  }
 ],
 "metadata": {
  "kernelspec": {
   "display_name": "R",
   "language": "R",
   "name": "ir"
  },
  "language_info": {
   "codemirror_mode": "r",
   "file_extension": ".r",
   "mimetype": "text/x-r-source",
   "name": "R",
   "pygments_lexer": "r",
   "version": "4.0.2"
  }
 },
 "nbformat": 4,
 "nbformat_minor": 2
}
